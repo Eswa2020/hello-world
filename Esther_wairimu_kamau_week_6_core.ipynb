{
  "nbformat": 4,
  "nbformat_minor": 0,
  "metadata": {
    "colab": {
      "name": "Esther_wairimu_kamau_week_6_core",
      "provenance": [],
      "collapsed_sections": [
        "kLG2VTrnTvYL",
        "XecOwPNorl2W",
        "J4wfHZwQrs-t",
        "a9BPYqunry97",
        "7KMRBJ7zr9HD",
        "zSGyg6kWsBUl",
        "iUNbvIvnT7ep",
        "OI3P3YnHUEBk",
        "ckfufNrcUHeH",
        "6XC_g-zKxe-r",
        "FlBMxEDBUc9B",
        "rF2ABPsHUtbZ",
        "vTbdjSrhVIiT",
        "lQ2G4ZPDVOXE",
        "xrmHVMVsVS--",
        "HPQviDmNtta8",
        "qjFHK1CKty7o",
        "HSsicSdvt4Zs"
      ],
      "toc_visible": true,
      "include_colab_link": true
    },
    "kernelspec": {
      "name": "python3",
      "display_name": "Python 3"
    }
  },
  "cells": [
    {
      "cell_type": "markdown",
      "metadata": {
        "id": "view-in-github",
        "colab_type": "text"
      },
      "source": [
        "<a href=\"https://colab.research.google.com/github/Eswa2020/hello-world/blob/master/Esther_wairimu_kamau_week_6_core.ipynb\" target=\"_parent\"><img src=\"https://colab.research.google.com/assets/colab-badge.svg\" alt=\"Open In Colab\"/></a>"
      ]
    },
    {
      "cell_type": "markdown",
      "metadata": {
        "id": "kLG2VTrnTvYL"
      },
      "source": [
        "## 1. Defining the Question"
      ]
    },
    {
      "cell_type": "markdown",
      "metadata": {
        "id": "XecOwPNorl2W"
      },
      "source": [
        "###  Specifying the Question"
      ]
    },
    {
      "cell_type": "markdown",
      "metadata": {
        "id": "8l3-hBO6bODP"
      },
      "source": [
        "\n",
        "**Problem statement:**\n",
        "You have been recruited as a football data analyst in a company -    **Mchezopesa Ltd **and tasked to accomplish the task below.\n",
        "\n",
        "A prediction result of a game between team 1 and team 2, based on who's home and who's away, and on whether or not the game is friendly (include rank in your training).\n",
        "\n",
        "You have two possible approaches (as  shown below) given the datasets that will be provided\n",
        "\n",
        "**Input**: Home team, Away team, Tournament type (World cup, Friendly, Other)\n",
        "\n",
        "\n",
        "**Background Information:**\n",
        "\n",
        "Since their introduction in 1992, the FIFA World Rankings have been the subject of much debate, particularly regarding the calculation procedure and the resulting disparity between generally perceived quality and world ranking of some teams. The perceived flaws in the FIFA system have led to the creation of a number of alternative rankings from football statisticians.\n",
        "\n",
        "The initial system was very simple, with no weighting for the quality of opponent or importance of a match. The rankings were adapted in 1999 to include weightings based on the importance of the match and the strength of the opponent. A win over a weak opponent resulted in fewer points being awarded than a win over a much stronger one. Further adaptations in 2006 were made to reduce the number of years' results considered from 8 to 4, with greater reliance on matches from within the previous 12 months.\n",
        "\n",
        "Still, criticisms of the rankings remained, with particular anomalies being noted including: the United States rise to fourth in 2006, to the surprise of even their own players;**Israel's climb to 15th in November 2008**, which surprised the Israeli press and Belgium's rank of world number 1 in November 2015, given that Belgium had only played in one tournament final stage in the past 13 years.\n",
        "\n",
        "\n",
        "\n",
        "In the 2010s, teams realized the ranking system could be 'gamed', specifically by avoiding playing non-competitive matches, particularly against weaker opponents.This was because the low weighting of friendlies meant that even victories could reduce a team's average score: in other words, a team could win a match and lose points. Prior to the seeding of the 2018 World Cup preliminary draw, \n",
        "\n",
        "\n",
        "\n",
        "\n",
        "\n",
        "\n"
      ]
    },
    {
      "cell_type": "markdown",
      "metadata": {
        "id": "J4wfHZwQrs-t"
      },
      "source": [
        "###  Defining the Metric for Success"
      ]
    },
    {
      "cell_type": "markdown",
      "metadata": {
        "id": "aFk2fjqAQN94"
      },
      "source": [
        "The  model will be considered successful when I develop a model with high level of accuracy.  The variables that I shall use to predict the results of a match are:\n",
        "Which stadium is it played at (0 -neutral, 1-away team's stadium, 2- home team's stadium),\n",
        "Whether the match is an important match or a friendly match (0 - Friendly, 1- Important),\n",
        "How much the Home team's rank changes compared to the past period,\n",
        "How much the Away team's rank changes compared to the past period,\n",
        "Difference in the 2 team's ranking,\n",
        "Difference in the 2 team's mean weighted ratings over the past 3 years"
      ]
    },
    {
      "cell_type": "markdown",
      "metadata": {
        "id": "zSGyg6kWsBUl"
      },
      "source": [
        "###  Data Relevance"
      ]
    },
    {
      "cell_type": "markdown",
      "metadata": {
        "id": "oXYueSDBNhpA"
      },
      "source": [
        "I use two datasets provided\n",
        "\n",
        "FIFA rankings from 1993 to 2018.\n",
        "I used this to get the FIFA ranking and points for the teams, which proves to a decent predictor of team performance\n",
        "\n",
        "International Soccer matches from 1872 to 2018.\n",
        "This I will use to find out how much the difference in point, ranks and the current rank of the team affects the outcome of a match"
      ]
    },
    {
      "cell_type": "markdown",
      "metadata": {
        "id": "iUNbvIvnT7ep"
      },
      "source": [
        "## 2. Reading the Data"
      ]
    },
    {
      "cell_type": "code",
      "metadata": {
        "id": "XJn2KjW-WMlG",
        "outputId": "152cb1b8-a43d-4816-868a-bae7f08c5960",
        "colab": {
          "base_uri": "https://localhost:8080/",
          "height": 90
        }
      },
      "source": [
        "# Loading the results Dataset and importing the relavant libraries\n",
        "import numpy as np # linear algebra\n",
        "import pandas as pd # data processing, CSV file I/O (e.g. pd.read_csv)\n",
        "from matplotlib import pyplot as plt\n",
        "import seaborn as sns\n",
        "print(\"Done\")"
      ],
      "execution_count": null,
      "outputs": [
        {
          "output_type": "stream",
          "text": [
            "Done\n"
          ],
          "name": "stdout"
        },
        {
          "output_type": "stream",
          "text": [
            "/usr/local/lib/python3.6/dist-packages/statsmodels/tools/_testing.py:19: FutureWarning: pandas.util.testing is deprecated. Use the functions in the public API at pandas.testing instead.\n",
            "  import pandas.util.testing as tm\n"
          ],
          "name": "stderr"
        }
      ]
    },
    {
      "cell_type": "code",
      "metadata": {
        "id": "qw0yF7UdRE0f",
        "outputId": "ada2a0ac-e419-445f-b4c7-62f7b04a00df",
        "colab": {
          "base_uri": "https://localhost:8080/",
          "height": 108
        }
      },
      "source": [
        "# loading the results dataset\n",
        "results_df = pd.read_csv(\"/content/results.csv\")\n",
        "# convert date from object to date type\n",
        "results_df = results_df.astype({'date':'datetime64[ns]'})\n",
        "results_df.head(2"
      ],
      "execution_count": null,
      "outputs": [
        {
          "output_type": "execute_result",
          "data": {
            "text/html": [
              "<div>\n",
              "<style scoped>\n",
              "    .dataframe tbody tr th:only-of-type {\n",
              "        vertical-align: middle;\n",
              "    }\n",
              "\n",
              "    .dataframe tbody tr th {\n",
              "        vertical-align: top;\n",
              "    }\n",
              "\n",
              "    .dataframe thead th {\n",
              "        text-align: right;\n",
              "    }\n",
              "</style>\n",
              "<table border=\"1\" class=\"dataframe\">\n",
              "  <thead>\n",
              "    <tr style=\"text-align: right;\">\n",
              "      <th></th>\n",
              "      <th>date</th>\n",
              "      <th>home_team</th>\n",
              "      <th>away_team</th>\n",
              "      <th>home_score</th>\n",
              "      <th>away_score</th>\n",
              "      <th>tournament</th>\n",
              "      <th>city</th>\n",
              "      <th>country</th>\n",
              "      <th>neutral</th>\n",
              "    </tr>\n",
              "  </thead>\n",
              "  <tbody>\n",
              "    <tr>\n",
              "      <th>0</th>\n",
              "      <td>1872-11-30</td>\n",
              "      <td>Scotland</td>\n",
              "      <td>England</td>\n",
              "      <td>0</td>\n",
              "      <td>0</td>\n",
              "      <td>Friendly</td>\n",
              "      <td>Glasgow</td>\n",
              "      <td>Scotland</td>\n",
              "      <td>False</td>\n",
              "    </tr>\n",
              "    <tr>\n",
              "      <th>1</th>\n",
              "      <td>1873-03-08</td>\n",
              "      <td>England</td>\n",
              "      <td>Scotland</td>\n",
              "      <td>4</td>\n",
              "      <td>2</td>\n",
              "      <td>Friendly</td>\n",
              "      <td>London</td>\n",
              "      <td>England</td>\n",
              "      <td>False</td>\n",
              "    </tr>\n",
              "  </tbody>\n",
              "</table>\n",
              "</div>"
            ],
            "text/plain": [
              "        date home_team away_team  ...     city   country neutral\n",
              "0 1872-11-30  Scotland   England  ...  Glasgow  Scotland   False\n",
              "1 1873-03-08   England  Scotland  ...   London   England   False\n",
              "\n",
              "[2 rows x 9 columns]"
            ]
          },
          "metadata": {
            "tags": []
          },
          "execution_count": 2
        }
      ]
    },
    {
      "cell_type": "code",
      "metadata": {
        "id": "k1qg77G-MlPT",
        "outputId": "2b68fc02-c5fc-4490-bb77-745310bf1800",
        "colab": {
          "base_uri": "https://localhost:8080/",
          "height": 108
        }
      },
      "source": [
        "# loading rankings dataset\n",
        "fifa_ranking_df = pd.read_csv('/content/fifa_ranking.csv')\n",
        "\n",
        "fifa_ranking_df = fifa_ranking_df.loc[:,['rank', 'country_full', 'country_abrv', 'cur_year_avg_weighted', 'rank_date', \n",
        "                           'two_year_ago_weighted', 'three_year_ago_weighted']]\n",
        "# convert date from object to date type\n",
        "fifa_ranking_df['rank_date'] = pd.to_datetime(fifa_ranking_df['rank_date'])\n",
        "fifa_ranking_df.head(2)"
      ],
      "execution_count": null,
      "outputs": [
        {
          "output_type": "execute_result",
          "data": {
            "text/html": [
              "<div>\n",
              "<style scoped>\n",
              "    .dataframe tbody tr th:only-of-type {\n",
              "        vertical-align: middle;\n",
              "    }\n",
              "\n",
              "    .dataframe tbody tr th {\n",
              "        vertical-align: top;\n",
              "    }\n",
              "\n",
              "    .dataframe thead th {\n",
              "        text-align: right;\n",
              "    }\n",
              "</style>\n",
              "<table border=\"1\" class=\"dataframe\">\n",
              "  <thead>\n",
              "    <tr style=\"text-align: right;\">\n",
              "      <th></th>\n",
              "      <th>rank</th>\n",
              "      <th>country_full</th>\n",
              "      <th>country_abrv</th>\n",
              "      <th>cur_year_avg_weighted</th>\n",
              "      <th>rank_date</th>\n",
              "      <th>two_year_ago_weighted</th>\n",
              "      <th>three_year_ago_weighted</th>\n",
              "    </tr>\n",
              "  </thead>\n",
              "  <tbody>\n",
              "    <tr>\n",
              "      <th>0</th>\n",
              "      <td>1</td>\n",
              "      <td>Germany</td>\n",
              "      <td>GER</td>\n",
              "      <td>0.0</td>\n",
              "      <td>1993-08-08</td>\n",
              "      <td>0.0</td>\n",
              "      <td>0.0</td>\n",
              "    </tr>\n",
              "    <tr>\n",
              "      <th>1</th>\n",
              "      <td>2</td>\n",
              "      <td>Italy</td>\n",
              "      <td>ITA</td>\n",
              "      <td>0.0</td>\n",
              "      <td>1993-08-08</td>\n",
              "      <td>0.0</td>\n",
              "      <td>0.0</td>\n",
              "    </tr>\n",
              "  </tbody>\n",
              "</table>\n",
              "</div>"
            ],
            "text/plain": [
              "   rank country_full  ... two_year_ago_weighted  three_year_ago_weighted\n",
              "0     1      Germany  ...                   0.0                      0.0\n",
              "1     2        Italy  ...                   0.0                      0.0\n",
              "\n",
              "[2 rows x 7 columns]"
            ]
          },
          "metadata": {
            "tags": []
          },
          "execution_count": 4
        }
      ]
    },
    {
      "cell_type": "markdown",
      "metadata": {
        "id": "OI3P3YnHUEBk"
      },
      "source": [
        "## 3. Checking and manipulating the Data"
      ]
    },
    {
      "cell_type": "code",
      "metadata": {
        "id": "YjSVNwgptHxY",
        "outputId": "bb3c81de-baea-4f4a-a6c1-4ddd1ac6b9f4",
        "colab": {
          "base_uri": "https://localhost:8080/",
          "height": 52
        }
      },
      "source": [
        "# Determining the no. of records in the datasets\n",
        "#\n",
        "print(results_df.shape)\n",
        "print(fifa_ranking_df.shape)"
      ],
      "execution_count": null,
      "outputs": [
        {
          "output_type": "stream",
          "text": [
            "(40839, 9)\n",
            "(57793, 7)\n"
          ],
          "name": "stdout"
        }
      ]
    },
    {
      "cell_type": "code",
      "metadata": {
        "id": "xHhTw5eKWr0n",
        "outputId": "ee9ac540-0560-4484-afb1-cb6892a4e806",
        "colab": {
          "base_uri": "https://localhost:8080/",
          "height": 228
        }
      },
      "source": [
        "# Previewing the top of the dataset\n",
        "#\n",
        "print(results_df.head(3))\n",
        "print(fifa_ranking_df.head(3))"
      ],
      "execution_count": null,
      "outputs": [
        {
          "output_type": "stream",
          "text": [
            "        date home_team away_team  ...     city   country neutral\n",
            "0 1872-11-30  Scotland   England  ...  Glasgow  Scotland   False\n",
            "1 1873-03-08   England  Scotland  ...   London   England   False\n",
            "2 1874-03-07  Scotland   England  ...  Glasgow  Scotland   False\n",
            "\n",
            "[3 rows x 9 columns]\n",
            "   rank country_full  ... two_year_ago_weighted  three_year_ago_weighted\n",
            "0     1      Germany  ...                   0.0                      0.0\n",
            "1     2        Italy  ...                   0.0                      0.0\n",
            "2     3  Switzerland  ...                   0.0                      0.0\n",
            "\n",
            "[3 rows x 7 columns]\n"
          ],
          "name": "stdout"
        }
      ]
    },
    {
      "cell_type": "code",
      "metadata": {
        "id": "e9AzGcZFrIIr",
        "outputId": "17efe1f9-5a61-42e0-8bba-f052a45e8ca7",
        "colab": {
          "base_uri": "https://localhost:8080/",
          "height": 228
        }
      },
      "source": [
        "# Previewing the bottom of the datasets\n",
        "# \n",
        "print(results_df.tail(3))\n",
        "print(fifa_ranking_df.tail(3))"
      ],
      "execution_count": null,
      "outputs": [
        {
          "output_type": "stream",
          "text": [
            "            date         home_team    away_team  ...       city  country neutral\n",
            "40836 2019-07-19           Senegal      Algeria  ...      Cairo    Egypt    True\n",
            "40837 2019-07-19        Tajikistan  North Korea  ...  Ahmedabad    India    True\n",
            "40838 2019-07-20  Papua New Guinea         Fiji  ...       Apia    Samoa    True\n",
            "\n",
            "[3 rows x 9 columns]\n",
            "       rank country_full  ... two_year_ago_weighted  three_year_ago_weighted\n",
            "57790   206      Eritrea  ...                   0.0                      0.0\n",
            "57791   206      Somalia  ...                   0.0                      0.0\n",
            "57792   206        Tonga  ...                   0.0                      0.0\n",
            "\n",
            "[3 rows x 7 columns]\n"
          ],
          "name": "stdout"
        }
      ]
    },
    {
      "cell_type": "code",
      "metadata": {
        "id": "n8-dW4sQWzbc",
        "outputId": "f0522f1e-a253-44b8-ade6-e0adb79f7f10",
        "colab": {
          "base_uri": "https://localhost:8080/",
          "height": 579
        }
      },
      "source": [
        "# Checking whether each column has an appropriate datatype\n",
        "# \n",
        "print(results_df.info())\n",
        "print(fifa_ranking_df.info())"
      ],
      "execution_count": null,
      "outputs": [
        {
          "output_type": "stream",
          "text": [
            "<class 'pandas.core.frame.DataFrame'>\n",
            "RangeIndex: 40839 entries, 0 to 40838\n",
            "Data columns (total 9 columns):\n",
            " #   Column      Non-Null Count  Dtype         \n",
            "---  ------      --------------  -----         \n",
            " 0   date        40839 non-null  datetime64[ns]\n",
            " 1   home_team   40839 non-null  object        \n",
            " 2   away_team   40839 non-null  object        \n",
            " 3   home_score  40839 non-null  int64         \n",
            " 4   away_score  40839 non-null  int64         \n",
            " 5   tournament  40839 non-null  object        \n",
            " 6   city        40839 non-null  object        \n",
            " 7   country     40839 non-null  object        \n",
            " 8   neutral     40839 non-null  bool          \n",
            "dtypes: bool(1), datetime64[ns](1), int64(2), object(5)\n",
            "memory usage: 2.5+ MB\n",
            "None\n",
            "<class 'pandas.core.frame.DataFrame'>\n",
            "RangeIndex: 57793 entries, 0 to 57792\n",
            "Data columns (total 7 columns):\n",
            " #   Column                   Non-Null Count  Dtype         \n",
            "---  ------                   --------------  -----         \n",
            " 0   rank                     57793 non-null  int64         \n",
            " 1   country_full             57793 non-null  object        \n",
            " 2   country_abrv             57793 non-null  object        \n",
            " 3   cur_year_avg_weighted    57793 non-null  float64       \n",
            " 4   rank_date                57793 non-null  datetime64[ns]\n",
            " 5   two_year_ago_weighted    57793 non-null  float64       \n",
            " 6   three_year_ago_weighted  57793 non-null  float64       \n",
            "dtypes: datetime64[ns](1), float64(3), int64(1), object(2)\n",
            "memory usage: 3.1+ MB\n",
            "None\n"
          ],
          "name": "stdout"
        }
      ]
    },
    {
      "cell_type": "markdown",
      "metadata": {
        "id": "3oW3TemqZTQB"
      },
      "source": [
        "So we can see that each row of the results dataset is composed of :\n",
        "A date, the two teams and their score, the tournament, the location : country and city and, if the location is neutral\n",
        "\n"
      ]
    },
    {
      "cell_type": "code",
      "metadata": {
        "id": "ScgpVQLiQX0L",
        "outputId": "de92c9d2-92be-4aa2-f51d-e8a47816a02b",
        "colab": {
          "base_uri": "https://localhost:8080/",
          "height": 563
        }
      },
      "source": [
        "#Adding result variable to the results data set\n",
        "results_df['result'] = ['Draw' if i == 0  else 'Home_Won' if i > 0  else 'Away_Won' for i in results_df['home_score'] - results_df['away_score']]\n",
        "results_df"
      ],
      "execution_count": null,
      "outputs": [
        {
          "output_type": "execute_result",
          "data": {
            "text/html": [
              "<div>\n",
              "<style scoped>\n",
              "    .dataframe tbody tr th:only-of-type {\n",
              "        vertical-align: middle;\n",
              "    }\n",
              "\n",
              "    .dataframe tbody tr th {\n",
              "        vertical-align: top;\n",
              "    }\n",
              "\n",
              "    .dataframe thead th {\n",
              "        text-align: right;\n",
              "    }\n",
              "</style>\n",
              "<table border=\"1\" class=\"dataframe\">\n",
              "  <thead>\n",
              "    <tr style=\"text-align: right;\">\n",
              "      <th></th>\n",
              "      <th>date</th>\n",
              "      <th>home_team</th>\n",
              "      <th>away_team</th>\n",
              "      <th>home_score</th>\n",
              "      <th>away_score</th>\n",
              "      <th>tournament</th>\n",
              "      <th>city</th>\n",
              "      <th>country</th>\n",
              "      <th>neutral</th>\n",
              "      <th>result</th>\n",
              "    </tr>\n",
              "  </thead>\n",
              "  <tbody>\n",
              "    <tr>\n",
              "      <th>0</th>\n",
              "      <td>1872-11-30</td>\n",
              "      <td>Scotland</td>\n",
              "      <td>England</td>\n",
              "      <td>0</td>\n",
              "      <td>0</td>\n",
              "      <td>Friendly</td>\n",
              "      <td>Glasgow</td>\n",
              "      <td>Scotland</td>\n",
              "      <td>False</td>\n",
              "      <td>Draw</td>\n",
              "    </tr>\n",
              "    <tr>\n",
              "      <th>1</th>\n",
              "      <td>1873-03-08</td>\n",
              "      <td>England</td>\n",
              "      <td>Scotland</td>\n",
              "      <td>4</td>\n",
              "      <td>2</td>\n",
              "      <td>Friendly</td>\n",
              "      <td>London</td>\n",
              "      <td>England</td>\n",
              "      <td>False</td>\n",
              "      <td>Home_Won</td>\n",
              "    </tr>\n",
              "    <tr>\n",
              "      <th>2</th>\n",
              "      <td>1874-03-07</td>\n",
              "      <td>Scotland</td>\n",
              "      <td>England</td>\n",
              "      <td>2</td>\n",
              "      <td>1</td>\n",
              "      <td>Friendly</td>\n",
              "      <td>Glasgow</td>\n",
              "      <td>Scotland</td>\n",
              "      <td>False</td>\n",
              "      <td>Home_Won</td>\n",
              "    </tr>\n",
              "    <tr>\n",
              "      <th>3</th>\n",
              "      <td>1875-03-06</td>\n",
              "      <td>England</td>\n",
              "      <td>Scotland</td>\n",
              "      <td>2</td>\n",
              "      <td>2</td>\n",
              "      <td>Friendly</td>\n",
              "      <td>London</td>\n",
              "      <td>England</td>\n",
              "      <td>False</td>\n",
              "      <td>Draw</td>\n",
              "    </tr>\n",
              "    <tr>\n",
              "      <th>4</th>\n",
              "      <td>1876-03-04</td>\n",
              "      <td>Scotland</td>\n",
              "      <td>England</td>\n",
              "      <td>3</td>\n",
              "      <td>0</td>\n",
              "      <td>Friendly</td>\n",
              "      <td>Glasgow</td>\n",
              "      <td>Scotland</td>\n",
              "      <td>False</td>\n",
              "      <td>Home_Won</td>\n",
              "    </tr>\n",
              "    <tr>\n",
              "      <th>...</th>\n",
              "      <td>...</td>\n",
              "      <td>...</td>\n",
              "      <td>...</td>\n",
              "      <td>...</td>\n",
              "      <td>...</td>\n",
              "      <td>...</td>\n",
              "      <td>...</td>\n",
              "      <td>...</td>\n",
              "      <td>...</td>\n",
              "      <td>...</td>\n",
              "    </tr>\n",
              "    <tr>\n",
              "      <th>40834</th>\n",
              "      <td>2019-07-18</td>\n",
              "      <td>American Samoa</td>\n",
              "      <td>Tahiti</td>\n",
              "      <td>8</td>\n",
              "      <td>1</td>\n",
              "      <td>Pacific Games</td>\n",
              "      <td>Apia</td>\n",
              "      <td>Samoa</td>\n",
              "      <td>True</td>\n",
              "      <td>Home_Won</td>\n",
              "    </tr>\n",
              "    <tr>\n",
              "      <th>40835</th>\n",
              "      <td>2019-07-18</td>\n",
              "      <td>Fiji</td>\n",
              "      <td>Solomon Islands</td>\n",
              "      <td>4</td>\n",
              "      <td>4</td>\n",
              "      <td>Pacific Games</td>\n",
              "      <td>Apia</td>\n",
              "      <td>Samoa</td>\n",
              "      <td>True</td>\n",
              "      <td>Draw</td>\n",
              "    </tr>\n",
              "    <tr>\n",
              "      <th>40836</th>\n",
              "      <td>2019-07-19</td>\n",
              "      <td>Senegal</td>\n",
              "      <td>Algeria</td>\n",
              "      <td>0</td>\n",
              "      <td>1</td>\n",
              "      <td>African Cup of Nations</td>\n",
              "      <td>Cairo</td>\n",
              "      <td>Egypt</td>\n",
              "      <td>True</td>\n",
              "      <td>Away_Won</td>\n",
              "    </tr>\n",
              "    <tr>\n",
              "      <th>40837</th>\n",
              "      <td>2019-07-19</td>\n",
              "      <td>Tajikistan</td>\n",
              "      <td>North Korea</td>\n",
              "      <td>0</td>\n",
              "      <td>1</td>\n",
              "      <td>Intercontinental Cup</td>\n",
              "      <td>Ahmedabad</td>\n",
              "      <td>India</td>\n",
              "      <td>True</td>\n",
              "      <td>Away_Won</td>\n",
              "    </tr>\n",
              "    <tr>\n",
              "      <th>40838</th>\n",
              "      <td>2019-07-20</td>\n",
              "      <td>Papua New Guinea</td>\n",
              "      <td>Fiji</td>\n",
              "      <td>1</td>\n",
              "      <td>1</td>\n",
              "      <td>Pacific Games</td>\n",
              "      <td>Apia</td>\n",
              "      <td>Samoa</td>\n",
              "      <td>True</td>\n",
              "      <td>Draw</td>\n",
              "    </tr>\n",
              "  </tbody>\n",
              "</table>\n",
              "<p>40839 rows × 10 columns</p>\n",
              "</div>"
            ],
            "text/plain": [
              "            date         home_team  ... neutral    result\n",
              "0     1872-11-30          Scotland  ...   False      Draw\n",
              "1     1873-03-08           England  ...   False  Home_Won\n",
              "2     1874-03-07          Scotland  ...   False  Home_Won\n",
              "3     1875-03-06           England  ...   False      Draw\n",
              "4     1876-03-04          Scotland  ...   False  Home_Won\n",
              "...          ...               ...  ...     ...       ...\n",
              "40834 2019-07-18    American Samoa  ...    True  Home_Won\n",
              "40835 2019-07-18              Fiji  ...    True      Draw\n",
              "40836 2019-07-19           Senegal  ...    True  Away_Won\n",
              "40837 2019-07-19        Tajikistan  ...    True  Away_Won\n",
              "40838 2019-07-20  Papua New Guinea  ...    True      Draw\n",
              "\n",
              "[40839 rows x 10 columns]"
            ]
          },
          "metadata": {
            "tags": []
          },
          "execution_count": 21
        }
      ]
    },
    {
      "cell_type": "code",
      "metadata": {
        "id": "y93r__KrE8o4"
      },
      "source": [
        "#  merge the home team to get the home team ranks\n",
        "\n",
        "rank_home = pd.merge(results_df, fifa_ranking_df, left_on= ['date', 'home_team'], \n",
        "                     right_on= ['rank_date', 'country_full'], how = 'inner')\n",
        "\n",
        "rank_home.rename(columns={'rank' : 'rank_home'}, inplace=True)\n",
        "\n",
        "\n"
      ],
      "execution_count": null,
      "outputs": []
    },
    {
      "cell_type": "code",
      "metadata": {
        "id": "FtqaYTu7ONFI"
      },
      "source": [
        "# obtaining away team ranking\n",
        "rank_away = pd.merge(results_df, fifa_ranking_df, left_on=['away_team', 'date'],\n",
        "                     right_on= ['country_full', 'rank_date'], how = 'inner')\n",
        "\n",
        "rank_away.rename(columns={'rank' : 'rank_away'}, inplace=True)\n"
      ],
      "execution_count": null,
      "outputs": []
    },
    {
      "cell_type": "code",
      "metadata": {
        "id": "BLGYoHf6G-JU"
      },
      "source": [
        "# obtaining the columns that I will merge with the home team table\n",
        "\n",
        "final_rank_away = rank_away[['date','home_team', 'away_team', 'rank_away']]\n"
      ],
      "execution_count": null,
      "outputs": []
    },
    {
      "cell_type": "code",
      "metadata": {
        "id": "hFMnPOKFP34c"
      },
      "source": [
        " # Merge home team dataframe and final away team dataframe\n",
        "\n",
        "matches = pd.merge(rank_home, final_rank_away, left_on = ['home_team', 'away_team', 'date'],\n",
        "                 right_on = ['home_team', 'away_team', 'date'], how = 'inner')\n"
      ],
      "execution_count": null,
      "outputs": []
    },
    {
      "cell_type": "code",
      "metadata": {
        "id": "PNXXPE-sQez6"
      },
      "source": [
        "# Dropping unnecessary columns in the matches data set\n",
        "\n",
        "matches = matches.drop(columns=['country_full', 'country_abrv', 'rank_date', 'two_year_ago_weighted', 'three_year_ago_weighted', 'date', 'city',\n",
        "                            'country', 'cur_year_avg_weighted'])\n"
      ],
      "execution_count": null,
      "outputs": []
    },
    {
      "cell_type": "code",
      "metadata": {
        "id": "p23ql73sSRxH",
        "outputId": "0afa17db-e608-40f6-d521-dfa4e0cea63a",
        "colab": {
          "base_uri": "https://localhost:8080/",
          "height": 175
        }
      },
      "source": [
        "# checking for missing values\n",
        "matches.isnull().sum()"
      ],
      "execution_count": null,
      "outputs": [
        {
          "output_type": "execute_result",
          "data": {
            "text/plain": [
              "home_team     0\n",
              "away_team     0\n",
              "home_score    0\n",
              "away_score    0\n",
              "tournament    0\n",
              "neutral       0\n",
              "rank_home     0\n",
              "rank_away     0\n",
              "dtype: int64"
            ]
          },
          "metadata": {
            "tags": []
          },
          "execution_count": 19
        }
      ]
    },
    {
      "cell_type": "code",
      "metadata": {
        "id": "V6UxGunASdHi",
        "outputId": "9f345c18-cf0a-4349-d964-c12aea7a6dcb",
        "colab": {
          "base_uri": "https://localhost:8080/",
          "height": 34
        }
      },
      "source": [
        "# checking for duplicates in our dataset\n",
        "matches.duplicated().any()"
      ],
      "execution_count": null,
      "outputs": [
        {
          "output_type": "execute_result",
          "data": {
            "text/plain": [
              "False"
            ]
          },
          "metadata": {
            "tags": []
          },
          "execution_count": 20
        }
      ]
    },
    {
      "cell_type": "markdown",
      "metadata": {
        "id": "rF2ABPsHUtbZ"
      },
      "source": [
        "## 6. Exploratory Analysis"
      ]
    },
    {
      "cell_type": "code",
      "metadata": {
        "id": "-1mj6tEwYHq0",
        "outputId": "8a0e41f8-7e61-4382-e4e9-52bd78f21f60",
        "colab": {
          "base_uri": "https://localhost:8080/",
          "height": 290
        }
      },
      "source": [
        "# checking for the measures of dispersion\n",
        "matches.describe()"
      ],
      "execution_count": null,
      "outputs": [
        {
          "output_type": "execute_result",
          "data": {
            "text/html": [
              "<div>\n",
              "<style scoped>\n",
              "    .dataframe tbody tr th:only-of-type {\n",
              "        vertical-align: middle;\n",
              "    }\n",
              "\n",
              "    .dataframe tbody tr th {\n",
              "        vertical-align: top;\n",
              "    }\n",
              "\n",
              "    .dataframe thead th {\n",
              "        text-align: right;\n",
              "    }\n",
              "</style>\n",
              "<table border=\"1\" class=\"dataframe\">\n",
              "  <thead>\n",
              "    <tr style=\"text-align: right;\">\n",
              "      <th></th>\n",
              "      <th>home_score</th>\n",
              "      <th>away_score</th>\n",
              "      <th>rank_home</th>\n",
              "      <th>rank_away</th>\n",
              "    </tr>\n",
              "  </thead>\n",
              "  <tbody>\n",
              "    <tr>\n",
              "      <th>count</th>\n",
              "      <td>871.000000</td>\n",
              "      <td>871.000000</td>\n",
              "      <td>871.000000</td>\n",
              "      <td>871.000000</td>\n",
              "    </tr>\n",
              "    <tr>\n",
              "      <th>mean</th>\n",
              "      <td>1.632606</td>\n",
              "      <td>1.004592</td>\n",
              "      <td>65.549943</td>\n",
              "      <td>69.918485</td>\n",
              "    </tr>\n",
              "    <tr>\n",
              "      <th>std</th>\n",
              "      <td>1.905960</td>\n",
              "      <td>1.154691</td>\n",
              "      <td>47.557993</td>\n",
              "      <td>50.497652</td>\n",
              "    </tr>\n",
              "    <tr>\n",
              "      <th>min</th>\n",
              "      <td>0.000000</td>\n",
              "      <td>0.000000</td>\n",
              "      <td>1.000000</td>\n",
              "      <td>1.000000</td>\n",
              "    </tr>\n",
              "    <tr>\n",
              "      <th>25%</th>\n",
              "      <td>0.000000</td>\n",
              "      <td>0.000000</td>\n",
              "      <td>27.000000</td>\n",
              "      <td>28.000000</td>\n",
              "    </tr>\n",
              "    <tr>\n",
              "      <th>50%</th>\n",
              "      <td>1.000000</td>\n",
              "      <td>1.000000</td>\n",
              "      <td>58.000000</td>\n",
              "      <td>61.000000</td>\n",
              "    </tr>\n",
              "    <tr>\n",
              "      <th>75%</th>\n",
              "      <td>2.000000</td>\n",
              "      <td>2.000000</td>\n",
              "      <td>95.000000</td>\n",
              "      <td>102.500000</td>\n",
              "    </tr>\n",
              "    <tr>\n",
              "      <th>max</th>\n",
              "      <td>31.000000</td>\n",
              "      <td>9.000000</td>\n",
              "      <td>206.000000</td>\n",
              "      <td>209.000000</td>\n",
              "    </tr>\n",
              "  </tbody>\n",
              "</table>\n",
              "</div>"
            ],
            "text/plain": [
              "       home_score  away_score   rank_home   rank_away\n",
              "count  871.000000  871.000000  871.000000  871.000000\n",
              "mean     1.632606    1.004592   65.549943   69.918485\n",
              "std      1.905960    1.154691   47.557993   50.497652\n",
              "min      0.000000    0.000000    1.000000    1.000000\n",
              "25%      0.000000    0.000000   27.000000   28.000000\n",
              "50%      1.000000    1.000000   58.000000   61.000000\n",
              "75%      2.000000    2.000000   95.000000  102.500000\n",
              "max     31.000000    9.000000  206.000000  209.000000"
            ]
          },
          "metadata": {
            "tags": []
          },
          "execution_count": 22
        }
      ]
    },
    {
      "cell_type": "code",
      "metadata": {
        "id": "5nnRToniXGDK",
        "outputId": "7d5c82d0-9a31-46aa-e6e7-24e62fc552ac",
        "colab": {
          "base_uri": "https://localhost:8080/",
          "height": 485
        }
      },
      "source": [
        "# which tournament type is the most played.\n",
        "tournament = matches['tournament'].value_counts()\n",
        "tournament = tournament[:10]\n",
        "\n",
        "plt.figure(figsize = (10,7))\n",
        "sns.set_style(\"whitegrid\")\n",
        "ax = sns.barplot(y=tournament.index, x=tournament.values, palette=\"Reds_r\", orient='h')\n",
        "ax.set_ylabel('Tournament', size=16)\n",
        "ax.set_xlabel('Number of tournament', size=16)\n",
        "ax.set_title(\"TOP 10 TYPE OF MATCH TOURNAMENTS\", fontsize=18)\n"
      ],
      "execution_count": null,
      "outputs": [
        {
          "output_type": "execute_result",
          "data": {
            "text/plain": [
              "Text(0.5, 1.0, 'TOP 10 TYPE OF MATCH TOURNAMENTS')"
            ]
          },
          "metadata": {
            "tags": []
          },
          "execution_count": 21
        },
        {
          "output_type": "display_data",
          "data": {
            "image/png": "[encoded data removed]",
            "text/plain": [
              "<Figure size 720x504 with 1 Axes>"
            ]
          },
          "metadata": {
            "tags": [],
            "needs_background": "light"
          }
        }
      ]
    },
    {
      "cell_type": "markdown",
      "metadata": {
        "id": "j1Qz9yRiNRkX"
      },
      "source": [
        "The most type of matches played are friendly matches followed by FIFA World cup qualification."
      ]
    },
    {
      "cell_type": "code",
      "metadata": {
        "id": "T8WMVbdtcrZx",
        "outputId": "ff089430-f10b-4c33-aa15-6c28f4056b73",
        "colab": {
          "base_uri": "https://localhost:8080/",
          "height": 867
        }
      },
      "source": [
        "# the teams that scored the most\n",
        "plt.figure(figsize = (17, 14))\n",
        "plt_data = country_info.sort_values(by='goal_avg', ascending=False)[:10]\n",
        "sns.set_style(\"whitegrid\")\n",
        "ax = sns.barplot(x=\"team\", y=\"goal_avg\", data=plt_data, palette=\"Blues_r\")\n",
        "ax.set_xlabel('Team', size=16)\n",
        "ax.set_ylabel('Goal average per match', size=16)\n",
        "ax.set_title(\"TOP 10 OF GOAL AVERAGE PER MATCH\", fontsize=18)"
      ],
      "execution_count": null,
      "outputs": [
        {
          "output_type": "execute_result",
          "data": {
            "text/plain": [
              "Text(0.5, 1.0, 'TOP 10 OF GOAL AVERAGE PER MATCH')"
            ]
          },
          "metadata": {
            "tags": []
          },
          "execution_count": 56
        },
        {
          "output_type": "display_data",
          "data": {
            "image/png": "[encoded data removed]",
            "text/plain": [
              "<Figure size 1224x1008 with 1 Axes>"
            ]
          },
          "metadata": {
            "tags": []
          }
        }
      ]
    },
    {
      "cell_type": "code",
      "metadata": {
        "id": "Q8NxO45qiW-P",
        "outputId": "77c11258-f7e6-46c4-c336-c7ae4c7b7fee",
        "colab": {
          "base_uri": "https://localhost:8080/",
          "height": 542
        }
      },
      "source": [
        "# the top 10 teams who played the most matches\n",
        "plt.figure(figsize = (10,8))\n",
        "sns.set_style(\"whitegrid\")\n",
        "plt_data = country_info.sort_values(by='nb_matches', ascending=False)[:10]\n",
        "ax = sns.barplot(x=\"team\", y=\"nb_matches\", data=plt_data, palette=\"Blues_r\")\n",
        "ax.set_xlabel('Team', size=16)\n",
        "ax.set_ylabel('Number of matches', size=16)\n",
        "ax.set_title(\"TOP 10 OF NUMBER OF MATCHES\", fontsize=18)"
      ],
      "execution_count": null,
      "outputs": [
        {
          "output_type": "execute_result",
          "data": {
            "text/plain": [
              "Text(0.5, 1.0, 'TOP 10 OF NUMBER OF MATCHES')"
            ]
          },
          "metadata": {
            "tags": []
          },
          "execution_count": 57
        },
        {
          "output_type": "display_data",
          "data": {
            "image/png": "[encoded data removed]",
            "text/plain": [
              "<Figure size 720x576 with 1 Axes>"
            ]
          },
          "metadata": {
            "tags": []
          }
        }
      ]
    },
    {
      "cell_type": "code",
      "metadata": {
        "id": "kd6QoOaEiv9-",
        "outputId": "c5c39ea7-189c-472c-e96c-59f5bb00a2e6",
        "colab": {
          "base_uri": "https://localhost:8080/",
          "height": 470
        }
      },
      "source": [
        "# the top ten teams who scored the most goals\n",
        "plt.figure(figsize = (10,7))\n",
        "sns.set_style(\"whitegrid\")\n",
        "plt_data = country_info.sort_values(by='nb_goals', ascending=False)[:10]\n",
        "ax = sns.barplot(x=\"team\", y=\"nb_goals\", data=plt_data, palette=\"Blues_r\")\n",
        "ax.set_xlabel('Team', size=16)\n",
        "ax.set_ylabel('Number of goals', size=16)\n",
        "ax.set_title(\"TOP 10 OF NUMBER OF GOALS\", fontsize=18)\n",
        "\n",
        "del plt_data, country_info"
      ],
      "execution_count": null,
      "outputs": [
        {
          "output_type": "display_data",
          "data": {
            "image/png": "[encoded data removed]",
            "text/plain": [
              "<Figure size 720x504 with 1 Axes>"
            ]
          },
          "metadata": {
            "tags": []
          }
        }
      ]
    },
    {
      "cell_type": "code",
      "metadata": {
        "id": "N8xDAT6-klwd",
        "outputId": "52155607-3cda-41d7-9ddb-efe42b1cfaad",
        "colab": {
          "base_uri": "https://localhost:8080/",
          "height": 70
        }
      },
      "source": [
        "# finding the average score based on home and away\n",
        "means = matches[['home_score','away_score']].mean()\n",
        "means"
      ],
      "execution_count": null,
      "outputs": [
        {
          "output_type": "execute_result",
          "data": {
            "text/plain": [
              "home_score    1.632606\n",
              "away_score    1.004592\n",
              "dtype: float64"
            ]
          },
          "metadata": {
            "tags": []
          },
          "execution_count": 24
        }
      ]
    },
    {
      "cell_type": "markdown",
      "metadata": {
        "id": "ePPYvaanlNyD"
      },
      "source": [
        "we can notice that, on average, the home team scored more goals than the away team"
      ]
    },
    {
      "cell_type": "code",
      "metadata": {
        "id": "wAYwqEg-YqrA",
        "outputId": "55f242b1-784e-4178-d331-4f32264a88a4",
        "colab": {
          "base_uri": "https://localhost:8080/",
          "height": 319
        }
      },
      "source": [
        "# Checking the pearson correlation coefficient \n",
        "\n",
        "sns.heatmap(matches.corr(),annot=True)\n",
        "plt.show()"
      ],
      "execution_count": null,
      "outputs": [
        {
          "output_type": "display_data",
          "data": {
            "image/png": "[encoded data removed]",
            "text/plain": [
              "<Figure size 432x288 with 2 Axes>"
            ]
          },
          "metadata": {
            "tags": []
          }
        }
      ]
    },
    {
      "cell_type": "markdown",
      "metadata": {
        "id": "vTbdjSrhVIiT"
      },
      "source": [
        "## 7. Feature Engineering"
      ]
    },
    {
      "cell_type": "markdown",
      "metadata": {
        "id": "x-snvrEMdI_4"
      },
      "source": [
        "Firstly, I'll join the matches with the ranks of the different teams.\n",
        "\n",
        "Then extract some features:\n",
        "- score and rank differences\n"
      ]
    },
    {
      "cell_type": "code",
      "metadata": {
        "id": "1vqkqyBGH4lC"
      },
      "source": [
        "# feature generation\n",
        "\n",
        "matches['rank_difference'] = matches['rank_home'] - matches['rank_away']\n",
        "matches['average_rank'] = (matches['rank_home'] + matches['rank_away'])/2\n",
        "matches['score_difference'] = matches['home_score'] - matches['away_score']\n",
        "matches['is_won'] = matches['score_difference'] > 0 # take draw as lost\n",
        "matches['is_stake'] = matches['tournament'] != 'Friendly'\n"
      ],
      "execution_count": null,
      "outputs": []
    },
    {
      "cell_type": "markdown",
      "metadata": {
        "id": "X0N6OKcSXoZ0"
      },
      "source": [
        "**Modelling using logistic regression**"
      ]
    },
    {
      "cell_type": "code",
      "metadata": {
        "id": "t5VvCVihASF-",
        "outputId": "c71208d4-8006-4e0c-ca2e-a5627a3eeccd",
        "colab": {
          "base_uri": "https://localhost:8080/",
          "height": 324
        }
      },
      "source": [
        "# importing the relevant libraries used for regression\n",
        "from sklearn import linear_model\n",
        "from sklearn import ensemble\n",
        "from sklearn.model_selection import train_test_split\n",
        "from sklearn.metrics import confusion_matrix, roc_curve, roc_auc_score\n",
        "from sklearn.pipeline import Pipeline\n",
        "from sklearn.preprocessing import PolynomialFeatures\n",
        "\n",
        "X, y = matches.loc[:,['average_rank', 'rank_difference', 'is_stake']], matches['is_won']\n",
        "X_train, X_test, y_train, y_test = train_test_split(\n",
        "    X, y, test_size=0.2, random_state=42)\n",
        "\n",
        "logreg = linear_model.LogisticRegression(C=1e-5)\n",
        "features = PolynomialFeatures(degree=2)\n",
        "model = Pipeline([\n",
        "    ('polynomial_features', features),\n",
        "    ('logistic_regression', logreg)\n",
        "])\n",
        "model = model.fit(X_train, y_train)\n",
        "\n",
        "# figures \n",
        "fpr, tpr, _ = roc_curve(y_test, model.predict_proba(X_test)[:,1])\n",
        "plt.figure(figsize=(15,5))\n",
        "ax = plt.subplot(1,3,1)\n",
        "ax.plot([0, 1], [0, 1], 'k--')\n",
        "ax.plot(fpr, tpr)\n",
        "ax.set_title('AUC score is {0:0.2}'.format(roc_auc_score(y_test, model.predict_proba(X_test)[:,1])))\n",
        "ax.set_aspect(1)\n",
        "\n",
        "ax = plt.subplot(1,3,2)\n",
        "cm = confusion_matrix(y_test, model.predict(X_test))\n",
        "ax.imshow(cm, cmap='Blues', clim = (0, cm.max())) \n",
        "\n",
        "ax.set_xlabel('Predicted label')\n",
        "ax.set_title('Performance on the Test set')\n",
        "\n",
        "ax = plt.subplot(1,3,3)\n",
        "cm = confusion_matrix(y_train, model.predict(X_train))\n",
        "ax.imshow(cm, cmap='Blues', clim = (0, cm.max())) \n",
        "ax.set_xlabel('Predicted label')\n",
        "ax.set_title('Performance on the Training set')\n",
        "pass"
      ],
      "execution_count": null,
      "outputs": [
        {
          "output_type": "display_data",
          "data": {
            "image/png": "[encoded data removed]",
            "text/plain": [
              "<Figure size 1080x360 with 3 Axes>"
            ]
          },
          "metadata": {
            "tags": []
          }
        }
      ]
    },
    {
      "cell_type": "markdown",
      "metadata": {
        "id": "EmbH5eVuaXu9"
      },
      "source": [
        "AUC score provides an aggregate measure of performance across all possible classification thresholds.\n",
        "I consider this pretty good performance, minding that soccer matches have typically only few goals scored and therefore making their outcome even more unpredictable. "
      ]
    },
    {
      "cell_type": "code",
      "metadata": {
        "id": "kDyBWRXBZMA9",
        "outputId": "9349c2f2-d230-418b-b83e-ff8b52093133",
        "colab": {
          "base_uri": "https://localhost:8080/",
          "height": 685
        }
      },
      "source": [
        "# look at the bad predictions and see where the mistakes are arising from.\n",
        "features = ['average_rank', 'rank_difference'] #'score_difference']\n",
        "wrongs = y_test != model.predict(X_test)\n",
        "\n",
        "for feature in features:\n",
        "    plt.figure()\n",
        "    plt.title(feature)\n",
        "    X_test.loc[wrongs, feature].plot.kde()\n",
        "    X.loc[:, feature].plot.kde()\n",
        "    plt.legend(['wrongs', 'all'])\n",
        "    \n",
        "print(\"Stakes distribution in the wrong predictions\")\n",
        "print(X_test.loc[wrongs, 'is_stake'].value_counts() / wrongs.sum())\n",
        "print(\"Stakes distribution overall\")\n",
        "print(X['is_stake'].value_counts() / X.shape[0])"
      ],
      "execution_count": null,
      "outputs": [
        {
          "output_type": "stream",
          "text": [
            "Stakes distribution in the wrong predictions\n",
            "False    0.825397\n",
            "True     0.174603\n",
            "Name: is_stake, dtype: float64\n",
            "Stakes distribution overall\n",
            "False    0.659013\n",
            "True     0.340987\n",
            "Name: is_stake, dtype: float64\n"
          ],
          "name": "stdout"
        },
        {
          "output_type": "display_data",
          "data": {
            "image/png": "[encoded data removed]",
            "text/plain": [
              "<Figure size 432x288 with 1 Axes>"
            ]
          },
          "metadata": {
            "tags": []
          }
        },
        {
          "output_type": "display_data",
          "data": {
            "image/png": "[encoded data removed]",
            "text/plain": [
              "<Figure size 432x288 with 1 Axes>"
            ]
          },
          "metadata": {
            "tags": []
          }
        }
      ]
    },
    {
      "cell_type": "markdown",
      "metadata": {
        "id": "6upxUNwheaNl"
      },
      "source": [
        "From these figures, \n",
        "we predict worse for closer ranks\n",
        "lower ranks in general\n",
        "and somewhat for matches with no stakes (Friendly here)"
      ]
    },
    {
      "cell_type": "markdown",
      "metadata": {
        "id": "yVwnJgxuhCey"
      },
      "source": [
        "**Modelling using Polynomial approach**"
      ]
    },
    {
      "cell_type": "code",
      "metadata": {
        "id": "I6IzIl7DhPue",
        "outputId": "7cb9df2d-dab1-41fb-d879-99ae28a943f1",
        "colab": {
          "base_uri": "https://localhost:8080/",
          "height": 236
        }
      },
      "source": [
        "# encoding the tournament column with numeric codes\n",
        "\n",
        "# import labelencoder\n",
        "from sklearn.preprocessing import LabelEncoder\n",
        "\n",
        "# apply label encoder to appropriate column\n",
        "\n",
        "le = LabelEncoder()\n",
        "matches['tournament'] = le.fit_transform(matches['tournament'])\n",
        "\n",
        "matches.head()"
      ],
      "execution_count": null,
      "outputs": [
        {
          "output_type": "execute_result",
          "data": {
            "text/html": [
              "<div>\n",
              "<style scoped>\n",
              "    .dataframe tbody tr th:only-of-type {\n",
              "        vertical-align: middle;\n",
              "    }\n",
              "\n",
              "    .dataframe tbody tr th {\n",
              "        vertical-align: top;\n",
              "    }\n",
              "\n",
              "    .dataframe thead th {\n",
              "        text-align: right;\n",
              "    }\n",
              "</style>\n",
              "<table border=\"1\" class=\"dataframe\">\n",
              "  <thead>\n",
              "    <tr style=\"text-align: right;\">\n",
              "      <th></th>\n",
              "      <th>home_team</th>\n",
              "      <th>away_team</th>\n",
              "      <th>home_score</th>\n",
              "      <th>away_score</th>\n",
              "      <th>tournament</th>\n",
              "      <th>neutral</th>\n",
              "      <th>rank_home</th>\n",
              "      <th>rank_away</th>\n",
              "      <th>rank_difference</th>\n",
              "      <th>average_rank</th>\n",
              "      <th>score_difference</th>\n",
              "      <th>is_won</th>\n",
              "      <th>is_stake</th>\n",
              "    </tr>\n",
              "  </thead>\n",
              "  <tbody>\n",
              "    <tr>\n",
              "      <th>0</th>\n",
              "      <td>Bolivia</td>\n",
              "      <td>Uruguay</td>\n",
              "      <td>3</td>\n",
              "      <td>1</td>\n",
              "      <td>16</td>\n",
              "      <td>False</td>\n",
              "      <td>59</td>\n",
              "      <td>22</td>\n",
              "      <td>37</td>\n",
              "      <td>40.5</td>\n",
              "      <td>2</td>\n",
              "      <td>True</td>\n",
              "      <td>True</td>\n",
              "    </tr>\n",
              "    <tr>\n",
              "      <th>1</th>\n",
              "      <td>Brazil</td>\n",
              "      <td>Mexico</td>\n",
              "      <td>1</td>\n",
              "      <td>1</td>\n",
              "      <td>17</td>\n",
              "      <td>False</td>\n",
              "      <td>8</td>\n",
              "      <td>14</td>\n",
              "      <td>-6</td>\n",
              "      <td>11.0</td>\n",
              "      <td>0</td>\n",
              "      <td>False</td>\n",
              "      <td>False</td>\n",
              "    </tr>\n",
              "    <tr>\n",
              "      <th>2</th>\n",
              "      <td>Ecuador</td>\n",
              "      <td>Venezuela</td>\n",
              "      <td>5</td>\n",
              "      <td>0</td>\n",
              "      <td>16</td>\n",
              "      <td>False</td>\n",
              "      <td>35</td>\n",
              "      <td>94</td>\n",
              "      <td>-59</td>\n",
              "      <td>64.5</td>\n",
              "      <td>5</td>\n",
              "      <td>True</td>\n",
              "      <td>True</td>\n",
              "    </tr>\n",
              "    <tr>\n",
              "      <th>3</th>\n",
              "      <td>Guinea</td>\n",
              "      <td>Sierra Leone</td>\n",
              "      <td>1</td>\n",
              "      <td>0</td>\n",
              "      <td>17</td>\n",
              "      <td>False</td>\n",
              "      <td>65</td>\n",
              "      <td>86</td>\n",
              "      <td>-21</td>\n",
              "      <td>75.5</td>\n",
              "      <td>1</td>\n",
              "      <td>True</td>\n",
              "      <td>False</td>\n",
              "    </tr>\n",
              "    <tr>\n",
              "      <th>4</th>\n",
              "      <td>Paraguay</td>\n",
              "      <td>Argentina</td>\n",
              "      <td>1</td>\n",
              "      <td>3</td>\n",
              "      <td>16</td>\n",
              "      <td>False</td>\n",
              "      <td>67</td>\n",
              "      <td>5</td>\n",
              "      <td>62</td>\n",
              "      <td>36.0</td>\n",
              "      <td>-2</td>\n",
              "      <td>False</td>\n",
              "      <td>True</td>\n",
              "    </tr>\n",
              "  </tbody>\n",
              "</table>\n",
              "</div>"
            ],
            "text/plain": [
              "  home_team     away_team  home_score  ...  score_difference  is_won  is_stake\n",
              "0   Bolivia       Uruguay           3  ...                 2    True      True\n",
              "1    Brazil        Mexico           1  ...                 0   False     False\n",
              "2   Ecuador     Venezuela           5  ...                 5    True      True\n",
              "3    Guinea  Sierra Leone           1  ...                 1    True     False\n",
              "4  Paraguay     Argentina           1  ...                -2   False      True\n",
              "\n",
              "[5 rows x 13 columns]"
            ]
          },
          "metadata": {
            "tags": []
          },
          "execution_count": 37
        }
      ]
    },
    {
      "cell_type": "code",
      "metadata": {
        "id": "CQXELb51ihid",
        "outputId": "5ac6c5a4-67e3-437e-b49e-5f960a929ad6",
        "colab": {
          "base_uri": "https://localhost:8080/",
          "height": 401
        }
      },
      "source": [
        "# checking for multicollinearlity\n",
        "matches.drop(columns=['home_score', 'away_score'])\n",
        "\n",
        "# Display the correlations between the independent variables\n",
        "\n",
        "correlation = matches.corr()\n",
        "\n",
        "correlation"
      ],
      "execution_count": null,
      "outputs": [
        {
          "output_type": "execute_result",
          "data": {
            "text/html": [
              "<div>\n",
              "<style scoped>\n",
              "    .dataframe tbody tr th:only-of-type {\n",
              "        vertical-align: middle;\n",
              "    }\n",
              "\n",
              "    .dataframe tbody tr th {\n",
              "        vertical-align: top;\n",
              "    }\n",
              "\n",
              "    .dataframe thead th {\n",
              "        text-align: right;\n",
              "    }\n",
              "</style>\n",
              "<table border=\"1\" class=\"dataframe\">\n",
              "  <thead>\n",
              "    <tr style=\"text-align: right;\">\n",
              "      <th></th>\n",
              "      <th>home_score</th>\n",
              "      <th>away_score</th>\n",
              "      <th>tournament</th>\n",
              "      <th>neutral</th>\n",
              "      <th>rank_home</th>\n",
              "      <th>rank_away</th>\n",
              "      <th>rank_difference</th>\n",
              "      <th>average_rank</th>\n",
              "      <th>score_difference</th>\n",
              "      <th>is_won</th>\n",
              "      <th>is_stake</th>\n",
              "    </tr>\n",
              "  </thead>\n",
              "  <tbody>\n",
              "    <tr>\n",
              "      <th>home_score</th>\n",
              "      <td>1.000000</td>\n",
              "      <td>-0.132413</td>\n",
              "      <td>-0.033968</td>\n",
              "      <td>0.001156</td>\n",
              "      <td>-0.043381</td>\n",
              "      <td>0.309322</td>\n",
              "      <td>-0.373297</td>\n",
              "      <td>0.157814</td>\n",
              "      <td>0.874028</td>\n",
              "      <td>0.539544</td>\n",
              "      <td>0.137465</td>\n",
              "    </tr>\n",
              "    <tr>\n",
              "      <th>away_score</th>\n",
              "      <td>-0.132413</td>\n",
              "      <td>1.000000</td>\n",
              "      <td>-0.002145</td>\n",
              "      <td>0.088183</td>\n",
              "      <td>0.143060</td>\n",
              "      <td>-0.151524</td>\n",
              "      <td>0.305155</td>\n",
              "      <td>-0.009871</td>\n",
              "      <td>-0.597329</td>\n",
              "      <td>-0.469734</td>\n",
              "      <td>-0.004961</td>\n",
              "    </tr>\n",
              "    <tr>\n",
              "      <th>tournament</th>\n",
              "      <td>-0.033968</td>\n",
              "      <td>-0.002145</td>\n",
              "      <td>1.000000</td>\n",
              "      <td>-0.034279</td>\n",
              "      <td>-0.102162</td>\n",
              "      <td>-0.085372</td>\n",
              "      <td>-0.011558</td>\n",
              "      <td>-0.106743</td>\n",
              "      <td>-0.026433</td>\n",
              "      <td>-0.021120</td>\n",
              "      <td>-0.048471</td>\n",
              "    </tr>\n",
              "    <tr>\n",
              "      <th>neutral</th>\n",
              "      <td>0.001156</td>\n",
              "      <td>0.088183</td>\n",
              "      <td>-0.034279</td>\n",
              "      <td>1.000000</td>\n",
              "      <td>0.059212</td>\n",
              "      <td>0.072782</td>\n",
              "      <td>-0.018140</td>\n",
              "      <td>0.075564</td>\n",
              "      <td>-0.042291</td>\n",
              "      <td>-0.022301</td>\n",
              "      <td>0.105751</td>\n",
              "    </tr>\n",
              "    <tr>\n",
              "      <th>rank_home</th>\n",
              "      <td>-0.043381</td>\n",
              "      <td>0.143060</td>\n",
              "      <td>-0.102162</td>\n",
              "      <td>0.059212</td>\n",
              "      <td>1.000000</td>\n",
              "      <td>0.534618</td>\n",
              "      <td>0.434050</td>\n",
              "      <td>0.867880</td>\n",
              "      <td>-0.105227</td>\n",
              "      <td>-0.117950</td>\n",
              "      <td>0.261334</td>\n",
              "    </tr>\n",
              "    <tr>\n",
              "      <th>rank_away</th>\n",
              "      <td>0.309322</td>\n",
              "      <td>-0.151524</td>\n",
              "      <td>-0.085372</td>\n",
              "      <td>0.072782</td>\n",
              "      <td>0.534618</td>\n",
              "      <td>1.000000</td>\n",
              "      <td>-0.529284</td>\n",
              "      <td>0.883805</td>\n",
              "      <td>0.324555</td>\n",
              "      <td>0.261971</td>\n",
              "      <td>0.338094</td>\n",
              "    </tr>\n",
              "    <tr>\n",
              "      <th>rank_difference</th>\n",
              "      <td>-0.373297</td>\n",
              "      <td>0.305155</td>\n",
              "      <td>-0.011558</td>\n",
              "      <td>-0.018140</td>\n",
              "      <td>0.434050</td>\n",
              "      <td>-0.529284</td>\n",
              "      <td>1.000000</td>\n",
              "      <td>-0.070835</td>\n",
              "      <td>-0.451627</td>\n",
              "      <td>-0.397685</td>\n",
              "      <td>-0.098046</td>\n",
              "    </tr>\n",
              "    <tr>\n",
              "      <th>average_rank</th>\n",
              "      <td>0.157814</td>\n",
              "      <td>-0.009871</td>\n",
              "      <td>-0.106743</td>\n",
              "      <td>0.075564</td>\n",
              "      <td>0.867880</td>\n",
              "      <td>0.883805</td>\n",
              "      <td>-0.070835</td>\n",
              "      <td>1.000000</td>\n",
              "      <td>0.132529</td>\n",
              "      <td>0.088696</td>\n",
              "      <td>0.343421</td>\n",
              "    </tr>\n",
              "    <tr>\n",
              "      <th>score_difference</th>\n",
              "      <td>0.874028</td>\n",
              "      <td>-0.597329</td>\n",
              "      <td>-0.026433</td>\n",
              "      <td>-0.042291</td>\n",
              "      <td>-0.105227</td>\n",
              "      <td>0.324555</td>\n",
              "      <td>-0.451627</td>\n",
              "      <td>0.132529</td>\n",
              "      <td>1.000000</td>\n",
              "      <td>0.666815</td>\n",
              "      <td>0.113658</td>\n",
              "    </tr>\n",
              "    <tr>\n",
              "      <th>is_won</th>\n",
              "      <td>0.539544</td>\n",
              "      <td>-0.469734</td>\n",
              "      <td>-0.021120</td>\n",
              "      <td>-0.022301</td>\n",
              "      <td>-0.117950</td>\n",
              "      <td>0.261971</td>\n",
              "      <td>-0.397685</td>\n",
              "      <td>0.088696</td>\n",
              "      <td>0.666815</td>\n",
              "      <td>1.000000</td>\n",
              "      <td>0.105593</td>\n",
              "    </tr>\n",
              "    <tr>\n",
              "      <th>is_stake</th>\n",
              "      <td>0.137465</td>\n",
              "      <td>-0.004961</td>\n",
              "      <td>-0.048471</td>\n",
              "      <td>0.105751</td>\n",
              "      <td>0.261334</td>\n",
              "      <td>0.338094</td>\n",
              "      <td>-0.098046</td>\n",
              "      <td>0.343421</td>\n",
              "      <td>0.113658</td>\n",
              "      <td>0.105593</td>\n",
              "      <td>1.000000</td>\n",
              "    </tr>\n",
              "  </tbody>\n",
              "</table>\n",
              "</div>"
            ],
            "text/plain": [
              "                  home_score  away_score  ...    is_won  is_stake\n",
              "home_score          1.000000   -0.132413  ...  0.539544  0.137465\n",
              "away_score         -0.132413    1.000000  ... -0.469734 -0.004961\n",
              "tournament         -0.033968   -0.002145  ... -0.021120 -0.048471\n",
              "neutral             0.001156    0.088183  ... -0.022301  0.105751\n",
              "rank_home          -0.043381    0.143060  ... -0.117950  0.261334\n",
              "rank_away           0.309322   -0.151524  ...  0.261971  0.338094\n",
              "rank_difference    -0.373297    0.305155  ... -0.397685 -0.098046\n",
              "average_rank        0.157814   -0.009871  ...  0.088696  0.343421\n",
              "score_difference    0.874028   -0.597329  ...  0.666815  0.113658\n",
              "is_won              0.539544   -0.469734  ...  1.000000  0.105593\n",
              "is_stake            0.137465   -0.004961  ...  0.105593  1.000000\n",
              "\n",
              "[11 rows x 11 columns]"
            ]
          },
          "metadata": {
            "tags": []
          },
          "execution_count": 41
        }
      ]
    },
    {
      "cell_type": "code",
      "metadata": {
        "id": "veqYAHDNq5ND",
        "outputId": "5b89cafa-9ee1-4323-94e5-1152749a78c4",
        "colab": {
          "base_uri": "https://localhost:8080/",
          "height": 401
        }
      },
      "source": [
        "# calculate the variance inflation vector(VIF)\n",
        "pd.DataFrame(np.linalg.inv(correlation.values), index = correlation.index, columns=correlation.columns)"
      ],
      "execution_count": null,
      "outputs": [
        {
          "output_type": "execute_result",
          "data": {
            "text/html": [
              "<div>\n",
              "<style scoped>\n",
              "    .dataframe tbody tr th:only-of-type {\n",
              "        vertical-align: middle;\n",
              "    }\n",
              "\n",
              "    .dataframe tbody tr th {\n",
              "        vertical-align: top;\n",
              "    }\n",
              "\n",
              "    .dataframe thead th {\n",
              "        text-align: right;\n",
              "    }\n",
              "</style>\n",
              "<table border=\"1\" class=\"dataframe\">\n",
              "  <thead>\n",
              "    <tr style=\"text-align: right;\">\n",
              "      <th></th>\n",
              "      <th>home_score</th>\n",
              "      <th>away_score</th>\n",
              "      <th>tournament</th>\n",
              "      <th>neutral</th>\n",
              "      <th>rank_home</th>\n",
              "      <th>rank_away</th>\n",
              "      <th>rank_difference</th>\n",
              "      <th>average_rank</th>\n",
              "      <th>score_difference</th>\n",
              "      <th>is_won</th>\n",
              "      <th>is_stake</th>\n",
              "    </tr>\n",
              "  </thead>\n",
              "  <tbody>\n",
              "    <tr>\n",
              "      <th>home_score</th>\n",
              "      <td>9.963671e+13</td>\n",
              "      <td>-6.036310e+13</td>\n",
              "      <td>0.034432</td>\n",
              "      <td>0.027344</td>\n",
              "      <td>1.898766e+13</td>\n",
              "      <td>1.147702e+14</td>\n",
              "      <td>4.437475e+13</td>\n",
              "      <td>-1.147702e+14</td>\n",
              "      <td>-1.231420e+14</td>\n",
              "      <td>0.262921</td>\n",
              "      <td>-0.006713</td>\n",
              "    </tr>\n",
              "    <tr>\n",
              "      <th>away_score</th>\n",
              "      <td>-6.036310e+13</td>\n",
              "      <td>3.656990e+13</td>\n",
              "      <td>-0.007498</td>\n",
              "      <td>-0.105853</td>\n",
              "      <td>-1.150333e+13</td>\n",
              "      <td>-6.953149e+13</td>\n",
              "      <td>-2.688365e+13</td>\n",
              "      <td>6.953149e+13</td>\n",
              "      <td>7.460334e+13</td>\n",
              "      <td>0.042443</td>\n",
              "      <td>-0.069622</td>\n",
              "    </tr>\n",
              "    <tr>\n",
              "      <th>tournament</th>\n",
              "      <td>3.306277e-02</td>\n",
              "      <td>-7.540462e-03</td>\n",
              "      <td>1.013577</td>\n",
              "      <td>0.026967</td>\n",
              "      <td>-1.171007e-01</td>\n",
              "      <td>4.008778e-02</td>\n",
              "      <td>9.953325e-02</td>\n",
              "      <td>1.648987e-01</td>\n",
              "      <td>-1.352862e-02</td>\n",
              "      <td>0.013118</td>\n",
              "      <td>0.010727</td>\n",
              "    </tr>\n",
              "    <tr>\n",
              "      <th>neutral</th>\n",
              "      <td>2.763906e-02</td>\n",
              "      <td>-1.062105e-01</td>\n",
              "      <td>0.026967</td>\n",
              "      <td>1.023783</td>\n",
              "      <td>-9.826050e-02</td>\n",
              "      <td>3.554157e-02</td>\n",
              "      <td>1.118329e-01</td>\n",
              "      <td>2.450699e-02</td>\n",
              "      <td>-8.528883e-04</td>\n",
              "      <td>-0.009384</td>\n",
              "      <td>-0.090415</td>\n",
              "    </tr>\n",
              "    <tr>\n",
              "      <th>rank_home</th>\n",
              "      <td>2.273472e+13</td>\n",
              "      <td>-1.377342e+13</td>\n",
              "      <td>-0.103043</td>\n",
              "      <td>-0.105740</td>\n",
              "      <td>-6.200255e+14</td>\n",
              "      <td>-4.104560e+14</td>\n",
              "      <td>1.162708e+14</td>\n",
              "      <td>9.091066e+14</td>\n",
              "      <td>-2.809806e+13</td>\n",
              "      <td>-0.015114</td>\n",
              "      <td>0.294470</td>\n",
              "    </tr>\n",
              "    <tr>\n",
              "      <th>rank_away</th>\n",
              "      <td>1.146017e+14</td>\n",
              "      <td>-6.942936e+13</td>\n",
              "      <td>0.032076</td>\n",
              "      <td>0.028556</td>\n",
              "      <td>-4.293061e+14</td>\n",
              "      <td>9.486241e+14</td>\n",
              "      <td>6.587418e+14</td>\n",
              "      <td>-4.191508e+14</td>\n",
              "      <td>-1.416373e+14</td>\n",
              "      <td>1.077439</td>\n",
              "      <td>-0.287072</td>\n",
              "    </tr>\n",
              "    <tr>\n",
              "      <th>rank_difference</th>\n",
              "      <td>4.242956e+13</td>\n",
              "      <td>-2.570518e+13</td>\n",
              "      <td>0.100549</td>\n",
              "      <td>0.111653</td>\n",
              "      <td>1.074295e+14</td>\n",
              "      <td>6.493540e+14</td>\n",
              "      <td>2.510662e+14</td>\n",
              "      <td>-6.493540e+14</td>\n",
              "      <td>-5.243910e+13</td>\n",
              "      <td>0.726867</td>\n",
              "      <td>-0.226567</td>\n",
              "    </tr>\n",
              "    <tr>\n",
              "      <th>average_rank</th>\n",
              "      <td>-1.180111e+14</td>\n",
              "      <td>7.149487e+13</td>\n",
              "      <td>0.165916</td>\n",
              "      <td>0.026489</td>\n",
              "      <td>9.251401e+14</td>\n",
              "      <td>-4.361754e+14</td>\n",
              "      <td>-6.653242e+14</td>\n",
              "      <td>-4.645445e+14</td>\n",
              "      <td>1.458510e+14</td>\n",
              "      <td>-0.892779</td>\n",
              "      <td>-0.393927</td>\n",
              "    </tr>\n",
              "    <tr>\n",
              "      <th>score_difference</th>\n",
              "      <td>-1.231420e+14</td>\n",
              "      <td>7.460334e+13</td>\n",
              "      <td>-0.014439</td>\n",
              "      <td>-0.000065</td>\n",
              "      <td>-2.346703e+13</td>\n",
              "      <td>-1.418457e+14</td>\n",
              "      <td>-5.484319e+13</td>\n",
              "      <td>1.418457e+14</td>\n",
              "      <td>1.521923e+14</td>\n",
              "      <td>-1.347368</td>\n",
              "      <td>-0.056143</td>\n",
              "    </tr>\n",
              "    <tr>\n",
              "      <th>is_won</th>\n",
              "      <td>2.689644e-01</td>\n",
              "      <td>3.878170e-02</td>\n",
              "      <td>0.013118</td>\n",
              "      <td>-0.009384</td>\n",
              "      <td>-1.343588e-01</td>\n",
              "      <td>1.103544e+00</td>\n",
              "      <td>7.984982e-01</td>\n",
              "      <td>-8.072870e-01</td>\n",
              "      <td>-1.354837e+00</td>\n",
              "      <td>1.867222</td>\n",
              "      <td>-0.060791</td>\n",
              "    </tr>\n",
              "    <tr>\n",
              "      <th>is_stake</th>\n",
              "      <td>-1.856937e-02</td>\n",
              "      <td>-6.243902e-02</td>\n",
              "      <td>0.010727</td>\n",
              "      <td>-0.090415</td>\n",
              "      <td>3.747930e-01</td>\n",
              "      <td>-3.314098e-01</td>\n",
              "      <td>-2.873656e-01</td>\n",
              "      <td>-4.287589e-01</td>\n",
              "      <td>-4.148999e-02</td>\n",
              "      <td>-0.060791</td>\n",
              "      <td>1.156631</td>\n",
              "    </tr>\n",
              "  </tbody>\n",
              "</table>\n",
              "</div>"
            ],
            "text/plain": [
              "                    home_score    away_score  ...    is_won  is_stake\n",
              "home_score        9.963671e+13 -6.036310e+13  ...  0.262921 -0.006713\n",
              "away_score       -6.036310e+13  3.656990e+13  ...  0.042443 -0.069622\n",
              "tournament        3.306277e-02 -7.540462e-03  ...  0.013118  0.010727\n",
              "neutral           2.763906e-02 -1.062105e-01  ... -0.009384 -0.090415\n",
              "rank_home         2.273472e+13 -1.377342e+13  ... -0.015114  0.294470\n",
              "rank_away         1.146017e+14 -6.942936e+13  ...  1.077439 -0.287072\n",
              "rank_difference   4.242956e+13 -2.570518e+13  ...  0.726867 -0.226567\n",
              "average_rank     -1.180111e+14  7.149487e+13  ... -0.892779 -0.393927\n",
              "score_difference -1.231420e+14  7.460334e+13  ... -1.347368 -0.056143\n",
              "is_won            2.689644e-01  3.878170e-02  ...  1.867222 -0.060791\n",
              "is_stake         -1.856937e-02 -6.243902e-02  ... -0.060791  1.156631\n",
              "\n",
              "[11 rows x 11 columns]"
            ]
          },
          "metadata": {
            "tags": []
          },
          "execution_count": 42
        }
      ]
    },
    {
      "cell_type": "markdown",
      "metadata": {
        "id": "lQ2G4ZPDVOXE"
      },
      "source": [
        "## 8. Challenging the solution"
      ]
    },
    {
      "cell_type": "markdown",
      "metadata": {
        "id": "jWVGKGuiYMWg"
      },
      "source": [
        "> The procedure of the logistic approach that I used is that you calculate the probability for each individual game, and if it's above a threshold then assign the win to that team. The problem with the  logistic approach is that the team with the highest ranking will always be picked as the tournament winner. The thing we could try would be to simulate the result of each match based on your calculated probabilities, and use that to predict the probability for each team to win the tournament.\n",
        "\n",
        "\n",
        "\n",
        "\n"
      ]
    },
    {
      "cell_type": "markdown",
      "metadata": {
        "id": "xrmHVMVsVS--"
      },
      "source": [
        "## 9. Follow up questions"
      ]
    },
    {
      "cell_type": "markdown",
      "metadata": {
        "id": "HPQviDmNtta8"
      },
      "source": [
        "### a). Did we have the right data?"
      ]
    },
    {
      "cell_type": "markdown",
      "metadata": {
        "id": "5FWi49w_viRZ"
      },
      "source": [
        "Yes we had the right data for the most part of the anlysis, but I think we also needed to have data for an upcoming competition that we would predict the outcomes."
      ]
    },
    {
      "cell_type": "markdown",
      "metadata": {
        "id": "qjFHK1CKty7o"
      },
      "source": [
        "### b). Do we need other data to answer our question?"
      ]
    },
    {
      "cell_type": "markdown",
      "metadata": {
        "id": "mLqHrwUfwgxo"
      },
      "source": [
        "we need another dataset for an upcoming competition that we are supposed predict the outcomes"
      ]
    },
    {
      "cell_type": "markdown",
      "metadata": {
        "id": "HSsicSdvt4Zs"
      },
      "source": [
        "### c). Did we have the right question?"
      ]
    },
    {
      "cell_type": "markdown",
      "metadata": {
        "id": "6mwYGlc3w6pz"
      },
      "source": [
        "The research question was clear and focused as it clearly stated what was required"
      ]
    }
  ]
}