{
  "nbformat": 4,
  "nbformat_minor": 0,
  "metadata": {
    "colab": {
      "name": "Esther Wairimu Kamau core indepedent project week 7.ipynb",
      "provenance": [],
      "toc_visible": true,
      "authorship_tag": "ABX9TyPKQak599QXkSzQTreo4Rv2",
      "include_colab_link": true
    },
    "kernelspec": {
      "name": "python3",
      "display_name": "Python 3"
    }
  },
  "cells": [
    {
      "cell_type": "markdown",
      "metadata": {
        "id": "view-in-github",
        "colab_type": "text"
      },
      "source": [
        "<a href=\"https://colab.research.google.com/github/Eswa2020/hello-world/blob/master/Esther_Wairimu_Kamau_core_indepedent_project_week_7.ipynb\" target=\"_parent\"><img src=\"https://colab.research.google.com/assets/colab-badge.svg\" alt=\"Open In Colab\"/></a>"
      ]
    },
    {
      "cell_type": "markdown",
      "metadata": {
        "id": "uT1YfERmwZ6t"
      },
      "source": [
        " \n",
        " >As a Data Scientist, you work for Hass Consulting Company which is a real estate leader with over 25 years of experience. You have been tasked to study the factors that affect housing prices using the given information on real estate properties that was collected over the past few months. Later onwards, create a model that would allow the company to accurately predict the sale of prices upon being provided with the predictor variables."
      ]
    },
    {
      "cell_type": "markdown",
      "metadata": {
        "id": "E5t6xmcKx8Lr"
      },
      "source": [
        "### loading the dataset"
      ]
    },
    {
      "cell_type": "code",
      "metadata": {
        "id": "vT9dOURJwV-d"
      },
      "source": [
        "#importing our libraries\n",
        "import pandas as pd\n",
        "import numpy as np\n",
        "import seaborn as sns\n",
        "import matplotlib.pyplot as plt"
      ],
      "execution_count": 28,
      "outputs": []
    },
    {
      "cell_type": "code",
      "metadata": {
        "id": "SFRZdDl4zyXl"
      },
      "source": [
        "#loading our datasets\n",
        "df_house = pd.read_csv('/content/Independent Project Week 7 - house_data.csv')"
      ],
      "execution_count": 3,
      "outputs": []
    },
    {
      "cell_type": "markdown",
      "metadata": {
        "id": "H0pEbk6Q0lUo"
      },
      "source": [
        "### exploring the dataset"
      ]
    },
    {
      "cell_type": "code",
      "metadata": {
        "colab": {
          "base_uri": "https://localhost:8080/",
          "height": 211
        },
        "id": "8qwrGd5E0rvG",
        "outputId": "8c55140d-1a69-4449-be98-dac86d840cce"
      },
      "source": [
        "df_house.head(5)"
      ],
      "execution_count": 4,
      "outputs": [
        {
          "output_type": "execute_result",
          "data": {
            "text/html": [
              "<div>\n",
              "<style scoped>\n",
              "    .dataframe tbody tr th:only-of-type {\n",
              "        vertical-align: middle;\n",
              "    }\n",
              "\n",
              "    .dataframe tbody tr th {\n",
              "        vertical-align: top;\n",
              "    }\n",
              "\n",
              "    .dataframe thead th {\n",
              "        text-align: right;\n",
              "    }\n",
              "</style>\n",
              "<table border=\"1\" class=\"dataframe\">\n",
              "  <thead>\n",
              "    <tr style=\"text-align: right;\">\n",
              "      <th></th>\n",
              "      <th>id</th>\n",
              "      <th>price</th>\n",
              "      <th>bedrooms</th>\n",
              "      <th>bathrooms</th>\n",
              "      <th>sqft_living</th>\n",
              "      <th>sqft_lot</th>\n",
              "      <th>floors</th>\n",
              "      <th>waterfront</th>\n",
              "      <th>view</th>\n",
              "      <th>condition</th>\n",
              "      <th>grade</th>\n",
              "      <th>sqft_above</th>\n",
              "      <th>sqft_basement</th>\n",
              "      <th>yr_built</th>\n",
              "      <th>yr_renovated</th>\n",
              "      <th>zipcode</th>\n",
              "      <th>lat</th>\n",
              "      <th>long</th>\n",
              "      <th>sqft_living15</th>\n",
              "      <th>sqft_lot15</th>\n",
              "    </tr>\n",
              "  </thead>\n",
              "  <tbody>\n",
              "    <tr>\n",
              "      <th>0</th>\n",
              "      <td>7129300520</td>\n",
              "      <td>221900.0</td>\n",
              "      <td>3</td>\n",
              "      <td>1.00</td>\n",
              "      <td>1180</td>\n",
              "      <td>5650</td>\n",
              "      <td>1.0</td>\n",
              "      <td>0</td>\n",
              "      <td>0</td>\n",
              "      <td>3</td>\n",
              "      <td>7</td>\n",
              "      <td>1180</td>\n",
              "      <td>0</td>\n",
              "      <td>1955</td>\n",
              "      <td>0</td>\n",
              "      <td>98178</td>\n",
              "      <td>47.5112</td>\n",
              "      <td>-122.257</td>\n",
              "      <td>1340</td>\n",
              "      <td>5650</td>\n",
              "    </tr>\n",
              "    <tr>\n",
              "      <th>1</th>\n",
              "      <td>6414100192</td>\n",
              "      <td>538000.0</td>\n",
              "      <td>3</td>\n",
              "      <td>2.25</td>\n",
              "      <td>2570</td>\n",
              "      <td>7242</td>\n",
              "      <td>2.0</td>\n",
              "      <td>0</td>\n",
              "      <td>0</td>\n",
              "      <td>3</td>\n",
              "      <td>7</td>\n",
              "      <td>2170</td>\n",
              "      <td>400</td>\n",
              "      <td>1951</td>\n",
              "      <td>1991</td>\n",
              "      <td>98125</td>\n",
              "      <td>47.7210</td>\n",
              "      <td>-122.319</td>\n",
              "      <td>1690</td>\n",
              "      <td>7639</td>\n",
              "    </tr>\n",
              "    <tr>\n",
              "      <th>2</th>\n",
              "      <td>5631500400</td>\n",
              "      <td>180000.0</td>\n",
              "      <td>2</td>\n",
              "      <td>1.00</td>\n",
              "      <td>770</td>\n",
              "      <td>10000</td>\n",
              "      <td>1.0</td>\n",
              "      <td>0</td>\n",
              "      <td>0</td>\n",
              "      <td>3</td>\n",
              "      <td>6</td>\n",
              "      <td>770</td>\n",
              "      <td>0</td>\n",
              "      <td>1933</td>\n",
              "      <td>0</td>\n",
              "      <td>98028</td>\n",
              "      <td>47.7379</td>\n",
              "      <td>-122.233</td>\n",
              "      <td>2720</td>\n",
              "      <td>8062</td>\n",
              "    </tr>\n",
              "    <tr>\n",
              "      <th>3</th>\n",
              "      <td>2487200875</td>\n",
              "      <td>604000.0</td>\n",
              "      <td>4</td>\n",
              "      <td>3.00</td>\n",
              "      <td>1960</td>\n",
              "      <td>5000</td>\n",
              "      <td>1.0</td>\n",
              "      <td>0</td>\n",
              "      <td>0</td>\n",
              "      <td>5</td>\n",
              "      <td>7</td>\n",
              "      <td>1050</td>\n",
              "      <td>910</td>\n",
              "      <td>1965</td>\n",
              "      <td>0</td>\n",
              "      <td>98136</td>\n",
              "      <td>47.5208</td>\n",
              "      <td>-122.393</td>\n",
              "      <td>1360</td>\n",
              "      <td>5000</td>\n",
              "    </tr>\n",
              "    <tr>\n",
              "      <th>4</th>\n",
              "      <td>1954400510</td>\n",
              "      <td>510000.0</td>\n",
              "      <td>3</td>\n",
              "      <td>2.00</td>\n",
              "      <td>1680</td>\n",
              "      <td>8080</td>\n",
              "      <td>1.0</td>\n",
              "      <td>0</td>\n",
              "      <td>0</td>\n",
              "      <td>3</td>\n",
              "      <td>8</td>\n",
              "      <td>1680</td>\n",
              "      <td>0</td>\n",
              "      <td>1987</td>\n",
              "      <td>0</td>\n",
              "      <td>98074</td>\n",
              "      <td>47.6168</td>\n",
              "      <td>-122.045</td>\n",
              "      <td>1800</td>\n",
              "      <td>7503</td>\n",
              "    </tr>\n",
              "  </tbody>\n",
              "</table>\n",
              "</div>"
            ],
            "text/plain": [
              "           id     price  bedrooms  ...     long  sqft_living15  sqft_lot15\n",
              "0  7129300520  221900.0         3  ... -122.257           1340        5650\n",
              "1  6414100192  538000.0         3  ... -122.319           1690        7639\n",
              "2  5631500400  180000.0         2  ... -122.233           2720        8062\n",
              "3  2487200875  604000.0         4  ... -122.393           1360        5000\n",
              "4  1954400510  510000.0         3  ... -122.045           1800        7503\n",
              "\n",
              "[5 rows x 20 columns]"
            ]
          },
          "metadata": {
            "tags": []
          },
          "execution_count": 4
        }
      ]
    },
    {
      "cell_type": "code",
      "metadata": {
        "colab": {
          "base_uri": "https://localhost:8080/",
          "height": 211
        },
        "id": "POaIBNAF0x1h",
        "outputId": "f2ba6691-d591-42f3-e63b-62404330b215"
      },
      "source": [
        "df_house.tail(5)"
      ],
      "execution_count": 5,
      "outputs": [
        {
          "output_type": "execute_result",
          "data": {
            "text/html": [
              "<div>\n",
              "<style scoped>\n",
              "    .dataframe tbody tr th:only-of-type {\n",
              "        vertical-align: middle;\n",
              "    }\n",
              "\n",
              "    .dataframe tbody tr th {\n",
              "        vertical-align: top;\n",
              "    }\n",
              "\n",
              "    .dataframe thead th {\n",
              "        text-align: right;\n",
              "    }\n",
              "</style>\n",
              "<table border=\"1\" class=\"dataframe\">\n",
              "  <thead>\n",
              "    <tr style=\"text-align: right;\">\n",
              "      <th></th>\n",
              "      <th>id</th>\n",
              "      <th>price</th>\n",
              "      <th>bedrooms</th>\n",
              "      <th>bathrooms</th>\n",
              "      <th>sqft_living</th>\n",
              "      <th>sqft_lot</th>\n",
              "      <th>floors</th>\n",
              "      <th>waterfront</th>\n",
              "      <th>view</th>\n",
              "      <th>condition</th>\n",
              "      <th>grade</th>\n",
              "      <th>sqft_above</th>\n",
              "      <th>sqft_basement</th>\n",
              "      <th>yr_built</th>\n",
              "      <th>yr_renovated</th>\n",
              "      <th>zipcode</th>\n",
              "      <th>lat</th>\n",
              "      <th>long</th>\n",
              "      <th>sqft_living15</th>\n",
              "      <th>sqft_lot15</th>\n",
              "    </tr>\n",
              "  </thead>\n",
              "  <tbody>\n",
              "    <tr>\n",
              "      <th>21608</th>\n",
              "      <td>263000018</td>\n",
              "      <td>360000.0</td>\n",
              "      <td>3</td>\n",
              "      <td>2.50</td>\n",
              "      <td>1530</td>\n",
              "      <td>1131</td>\n",
              "      <td>3.0</td>\n",
              "      <td>0</td>\n",
              "      <td>0</td>\n",
              "      <td>3</td>\n",
              "      <td>8</td>\n",
              "      <td>1530</td>\n",
              "      <td>0</td>\n",
              "      <td>2009</td>\n",
              "      <td>0</td>\n",
              "      <td>98103</td>\n",
              "      <td>47.6993</td>\n",
              "      <td>-122.346</td>\n",
              "      <td>1530</td>\n",
              "      <td>1509</td>\n",
              "    </tr>\n",
              "    <tr>\n",
              "      <th>21609</th>\n",
              "      <td>6600060120</td>\n",
              "      <td>400000.0</td>\n",
              "      <td>4</td>\n",
              "      <td>2.50</td>\n",
              "      <td>2310</td>\n",
              "      <td>5813</td>\n",
              "      <td>2.0</td>\n",
              "      <td>0</td>\n",
              "      <td>0</td>\n",
              "      <td>3</td>\n",
              "      <td>8</td>\n",
              "      <td>2310</td>\n",
              "      <td>0</td>\n",
              "      <td>2014</td>\n",
              "      <td>0</td>\n",
              "      <td>98146</td>\n",
              "      <td>47.5107</td>\n",
              "      <td>-122.362</td>\n",
              "      <td>1830</td>\n",
              "      <td>7200</td>\n",
              "    </tr>\n",
              "    <tr>\n",
              "      <th>21610</th>\n",
              "      <td>1523300141</td>\n",
              "      <td>402101.0</td>\n",
              "      <td>2</td>\n",
              "      <td>0.75</td>\n",
              "      <td>1020</td>\n",
              "      <td>1350</td>\n",
              "      <td>2.0</td>\n",
              "      <td>0</td>\n",
              "      <td>0</td>\n",
              "      <td>3</td>\n",
              "      <td>7</td>\n",
              "      <td>1020</td>\n",
              "      <td>0</td>\n",
              "      <td>2009</td>\n",
              "      <td>0</td>\n",
              "      <td>98144</td>\n",
              "      <td>47.5944</td>\n",
              "      <td>-122.299</td>\n",
              "      <td>1020</td>\n",
              "      <td>2007</td>\n",
              "    </tr>\n",
              "    <tr>\n",
              "      <th>21611</th>\n",
              "      <td>291310100</td>\n",
              "      <td>400000.0</td>\n",
              "      <td>3</td>\n",
              "      <td>2.50</td>\n",
              "      <td>1600</td>\n",
              "      <td>2388</td>\n",
              "      <td>2.0</td>\n",
              "      <td>0</td>\n",
              "      <td>0</td>\n",
              "      <td>3</td>\n",
              "      <td>8</td>\n",
              "      <td>1600</td>\n",
              "      <td>0</td>\n",
              "      <td>2004</td>\n",
              "      <td>0</td>\n",
              "      <td>98027</td>\n",
              "      <td>47.5345</td>\n",
              "      <td>-122.069</td>\n",
              "      <td>1410</td>\n",
              "      <td>1287</td>\n",
              "    </tr>\n",
              "    <tr>\n",
              "      <th>21612</th>\n",
              "      <td>1523300157</td>\n",
              "      <td>325000.0</td>\n",
              "      <td>2</td>\n",
              "      <td>0.75</td>\n",
              "      <td>1020</td>\n",
              "      <td>1076</td>\n",
              "      <td>2.0</td>\n",
              "      <td>0</td>\n",
              "      <td>0</td>\n",
              "      <td>3</td>\n",
              "      <td>7</td>\n",
              "      <td>1020</td>\n",
              "      <td>0</td>\n",
              "      <td>2008</td>\n",
              "      <td>0</td>\n",
              "      <td>98144</td>\n",
              "      <td>47.5941</td>\n",
              "      <td>-122.299</td>\n",
              "      <td>1020</td>\n",
              "      <td>1357</td>\n",
              "    </tr>\n",
              "  </tbody>\n",
              "</table>\n",
              "</div>"
            ],
            "text/plain": [
              "               id     price  bedrooms  ...     long  sqft_living15  sqft_lot15\n",
              "21608   263000018  360000.0         3  ... -122.346           1530        1509\n",
              "21609  6600060120  400000.0         4  ... -122.362           1830        7200\n",
              "21610  1523300141  402101.0         2  ... -122.299           1020        2007\n",
              "21611   291310100  400000.0         3  ... -122.069           1410        1287\n",
              "21612  1523300157  325000.0         2  ... -122.299           1020        1357\n",
              "\n",
              "[5 rows x 20 columns]"
            ]
          },
          "metadata": {
            "tags": []
          },
          "execution_count": 5
        }
      ]
    },
    {
      "cell_type": "code",
      "metadata": {
        "colab": {
          "base_uri": "https://localhost:8080/"
        },
        "id": "i1Tc-Eti071l",
        "outputId": "6d66da5a-6a6d-4a13-db5d-50ba9418d7e0"
      },
      "source": [
        "print(df_house.columns)"
      ],
      "execution_count": 6,
      "outputs": [
        {
          "output_type": "stream",
          "text": [
            "Index(['id', 'price', 'bedrooms', 'bathrooms', 'sqft_living', 'sqft_lot',\n",
            "       'floors', 'waterfront', 'view', 'condition', 'grade', 'sqft_above',\n",
            "       'sqft_basement', 'yr_built', 'yr_renovated', 'zipcode', 'lat', 'long',\n",
            "       'sqft_living15', 'sqft_lot15'],\n",
            "      dtype='object')\n"
          ],
          "name": "stdout"
        }
      ]
    },
    {
      "cell_type": "code",
      "metadata": {
        "colab": {
          "base_uri": "https://localhost:8080/"
        },
        "id": "FFXfoNRy1DzG",
        "outputId": "eff008ff-239d-440d-c02b-c488fbde0f4e"
      },
      "source": [
        "print(df_house.shape)"
      ],
      "execution_count": 7,
      "outputs": [
        {
          "output_type": "stream",
          "text": [
            "(21613, 20)\n"
          ],
          "name": "stdout"
        }
      ]
    },
    {
      "cell_type": "code",
      "metadata": {
        "colab": {
          "base_uri": "https://localhost:8080/"
        },
        "id": "mw4X13DA1Wyx",
        "outputId": "2c4b9834-52c1-4f49-c15a-61f9ec8dbf8a"
      },
      "source": [
        "print(df_house.isna().any())"
      ],
      "execution_count": 8,
      "outputs": [
        {
          "output_type": "stream",
          "text": [
            "id               False\n",
            "price            False\n",
            "bedrooms         False\n",
            "bathrooms        False\n",
            "sqft_living      False\n",
            "sqft_lot         False\n",
            "floors           False\n",
            "waterfront       False\n",
            "view             False\n",
            "condition        False\n",
            "grade            False\n",
            "sqft_above       False\n",
            "sqft_basement    False\n",
            "yr_built         False\n",
            "yr_renovated     False\n",
            "zipcode          False\n",
            "lat              False\n",
            "long             False\n",
            "sqft_living15    False\n",
            "sqft_lot15       False\n",
            "dtype: bool\n"
          ],
          "name": "stdout"
        }
      ]
    },
    {
      "cell_type": "code",
      "metadata": {
        "colab": {
          "base_uri": "https://localhost:8080/"
        },
        "id": "O5hVDFkq1pbe",
        "outputId": "a4fa8b03-ce8e-428a-bc87-8dac204d140d"
      },
      "source": [
        "print(df_house.duplicated().sum())"
      ],
      "execution_count": 9,
      "outputs": [
        {
          "output_type": "stream",
          "text": [
            "3\n"
          ],
          "name": "stdout"
        }
      ]
    },
    {
      "cell_type": "code",
      "metadata": {
        "colab": {
          "base_uri": "https://localhost:8080/"
        },
        "id": "lhHuQivL3E8o",
        "outputId": "23533d70-fef3-41a8-fa3a-368bcb0e326c"
      },
      "source": [
        "df_house.info()"
      ],
      "execution_count": 10,
      "outputs": [
        {
          "output_type": "stream",
          "text": [
            "<class 'pandas.core.frame.DataFrame'>\n",
            "RangeIndex: 21613 entries, 0 to 21612\n",
            "Data columns (total 20 columns):\n",
            " #   Column         Non-Null Count  Dtype  \n",
            "---  ------         --------------  -----  \n",
            " 0   id             21613 non-null  int64  \n",
            " 1   price          21613 non-null  float64\n",
            " 2   bedrooms       21613 non-null  int64  \n",
            " 3   bathrooms      21613 non-null  float64\n",
            " 4   sqft_living    21613 non-null  int64  \n",
            " 5   sqft_lot       21613 non-null  int64  \n",
            " 6   floors         21613 non-null  float64\n",
            " 7   waterfront     21613 non-null  int64  \n",
            " 8   view           21613 non-null  int64  \n",
            " 9   condition      21613 non-null  int64  \n",
            " 10  grade          21613 non-null  int64  \n",
            " 11  sqft_above     21613 non-null  int64  \n",
            " 12  sqft_basement  21613 non-null  int64  \n",
            " 13  yr_built       21613 non-null  int64  \n",
            " 14  yr_renovated   21613 non-null  int64  \n",
            " 15  zipcode        21613 non-null  int64  \n",
            " 16  lat            21613 non-null  float64\n",
            " 17  long           21613 non-null  float64\n",
            " 18  sqft_living15  21613 non-null  int64  \n",
            " 19  sqft_lot15     21613 non-null  int64  \n",
            "dtypes: float64(5), int64(15)\n",
            "memory usage: 3.3 MB\n"
          ],
          "name": "stdout"
        }
      ]
    },
    {
      "cell_type": "code",
      "metadata": {
        "colab": {
          "base_uri": "https://localhost:8080/"
        },
        "id": "fJT-_z2O5exJ",
        "outputId": "ef0409c6-c10d-462b-d575-d0a0512d658b"
      },
      "source": [
        "print(df_house['bedrooms'].unique().tolist())\n",
        "print(df_house['bathrooms'].unique().tolist())\n",
        "print(df_house['floors'].unique().tolist())\n",
        "\n"
      ],
      "execution_count": 11,
      "outputs": [
        {
          "output_type": "stream",
          "text": [
            "[3, 2, 4, 5, 1, 6, 7, 0, 8, 9, 11, 10, 33]\n",
            "[1.0, 2.25, 3.0, 2.0, 4.5, 1.5, 2.5, 1.75, 2.75, 3.25, 4.0, 3.5, 0.75, 4.75, 5.0, 4.25, 3.75, 0.0, 1.25, 5.25, 6.0, 0.5, 5.5, 6.75, 5.75, 8.0, 7.5, 7.75, 6.25, 6.5]\n",
            "[1.0, 2.0, 1.5, 3.0, 2.5, 3.5]\n"
          ],
          "name": "stdout"
        }
      ]
    },
    {
      "cell_type": "code",
      "metadata": {
        "colab": {
          "base_uri": "https://localhost:8080/"
        },
        "id": "5kEQGhrwNKHT",
        "outputId": "eab9314b-7c8e-4ee1-fbe4-3d252ae9d3e4"
      },
      "source": [
        "column_values1 = df_house[[\"long\",\"lat\"]].values.ravel()\n",
        "print(column_values1)"
      ],
      "execution_count": 12,
      "outputs": [
        {
          "output_type": "stream",
          "text": [
            "[-122.257    47.5112 -122.319  ...   47.5345 -122.299    47.5941]\n"
          ],
          "name": "stdout"
        }
      ]
    },
    {
      "cell_type": "markdown",
      "metadata": {
        "id": "cFufxv_p2vf1"
      },
      "source": [
        "### cleaning data"
      ]
    },
    {
      "cell_type": "code",
      "metadata": {
        "colab": {
          "base_uri": "https://localhost:8080/"
        },
        "id": "fa8n9j0I245s",
        "outputId": "019763fc-c033-4aa5-bf11-1b77a3fc4157"
      },
      "source": [
        "df_house.drop_duplicates(keep = False, inplace = True)\n",
        "print(df_house.duplicated().any())"
      ],
      "execution_count": 13,
      "outputs": [
        {
          "output_type": "stream",
          "text": [
            "False\n"
          ],
          "name": "stdout"
        }
      ]
    },
    {
      "cell_type": "code",
      "metadata": {
        "colab": {
          "base_uri": "https://localhost:8080/",
          "height": 297
        },
        "id": "_9u6BYpi4r8K",
        "outputId": "4625ef0b-dfb9-44a1-c5a2-39621fb0d10e"
      },
      "source": [
        "df_house.describe()"
      ],
      "execution_count": 14,
      "outputs": [
        {
          "output_type": "execute_result",
          "data": {
            "text/html": [
              "<div>\n",
              "<style scoped>\n",
              "    .dataframe tbody tr th:only-of-type {\n",
              "        vertical-align: middle;\n",
              "    }\n",
              "\n",
              "    .dataframe tbody tr th {\n",
              "        vertical-align: top;\n",
              "    }\n",
              "\n",
              "    .dataframe thead th {\n",
              "        text-align: right;\n",
              "    }\n",
              "</style>\n",
              "<table border=\"1\" class=\"dataframe\">\n",
              "  <thead>\n",
              "    <tr style=\"text-align: right;\">\n",
              "      <th></th>\n",
              "      <th>id</th>\n",
              "      <th>price</th>\n",
              "      <th>bedrooms</th>\n",
              "      <th>bathrooms</th>\n",
              "      <th>sqft_living</th>\n",
              "      <th>sqft_lot</th>\n",
              "      <th>floors</th>\n",
              "      <th>waterfront</th>\n",
              "      <th>view</th>\n",
              "      <th>condition</th>\n",
              "      <th>grade</th>\n",
              "      <th>sqft_above</th>\n",
              "      <th>sqft_basement</th>\n",
              "      <th>yr_built</th>\n",
              "      <th>yr_renovated</th>\n",
              "      <th>zipcode</th>\n",
              "      <th>lat</th>\n",
              "      <th>long</th>\n",
              "      <th>sqft_living15</th>\n",
              "      <th>sqft_lot15</th>\n",
              "    </tr>\n",
              "  </thead>\n",
              "  <tbody>\n",
              "    <tr>\n",
              "      <th>count</th>\n",
              "      <td>2.160700e+04</td>\n",
              "      <td>2.160700e+04</td>\n",
              "      <td>21607.000000</td>\n",
              "      <td>21607.000000</td>\n",
              "      <td>21607.000000</td>\n",
              "      <td>2.160700e+04</td>\n",
              "      <td>21607.000000</td>\n",
              "      <td>21607.000000</td>\n",
              "      <td>21607.000000</td>\n",
              "      <td>21607.000000</td>\n",
              "      <td>21607.000000</td>\n",
              "      <td>21607.000000</td>\n",
              "      <td>21607.000000</td>\n",
              "      <td>21607.000000</td>\n",
              "      <td>21607.000000</td>\n",
              "      <td>21607.000000</td>\n",
              "      <td>21607.000000</td>\n",
              "      <td>21607.000000</td>\n",
              "      <td>21607.000000</td>\n",
              "      <td>21607.000000</td>\n",
              "    </tr>\n",
              "    <tr>\n",
              "      <th>mean</th>\n",
              "      <td>4.580020e+09</td>\n",
              "      <td>5.401757e+05</td>\n",
              "      <td>3.370852</td>\n",
              "      <td>2.114720</td>\n",
              "      <td>2079.862683</td>\n",
              "      <td>1.510961e+04</td>\n",
              "      <td>1.494169</td>\n",
              "      <td>0.007544</td>\n",
              "      <td>0.234091</td>\n",
              "      <td>3.409451</td>\n",
              "      <td>7.656685</td>\n",
              "      <td>1788.305086</td>\n",
              "      <td>291.557597</td>\n",
              "      <td>1971.002083</td>\n",
              "      <td>84.242421</td>\n",
              "      <td>98077.951543</td>\n",
              "      <td>47.560045</td>\n",
              "      <td>-122.213923</td>\n",
              "      <td>1986.484889</td>\n",
              "      <td>12769.608460</td>\n",
              "    </tr>\n",
              "    <tr>\n",
              "      <th>std</th>\n",
              "      <td>2.876528e+09</td>\n",
              "      <td>3.674129e+05</td>\n",
              "      <td>0.930158</td>\n",
              "      <td>0.770244</td>\n",
              "      <td>918.559712</td>\n",
              "      <td>4.142594e+04</td>\n",
              "      <td>0.539998</td>\n",
              "      <td>0.086529</td>\n",
              "      <td>0.765955</td>\n",
              "      <td>0.650785</td>\n",
              "      <td>1.175542</td>\n",
              "      <td>828.186477</td>\n",
              "      <td>442.618358</td>\n",
              "      <td>29.371866</td>\n",
              "      <td>401.319142</td>\n",
              "      <td>53.505719</td>\n",
              "      <td>0.138580</td>\n",
              "      <td>0.140837</td>\n",
              "      <td>685.460263</td>\n",
              "      <td>27307.765664</td>\n",
              "    </tr>\n",
              "    <tr>\n",
              "      <th>min</th>\n",
              "      <td>1.000102e+06</td>\n",
              "      <td>7.500000e+04</td>\n",
              "      <td>0.000000</td>\n",
              "      <td>0.000000</td>\n",
              "      <td>290.000000</td>\n",
              "      <td>5.200000e+02</td>\n",
              "      <td>1.000000</td>\n",
              "      <td>0.000000</td>\n",
              "      <td>0.000000</td>\n",
              "      <td>1.000000</td>\n",
              "      <td>1.000000</td>\n",
              "      <td>290.000000</td>\n",
              "      <td>0.000000</td>\n",
              "      <td>1900.000000</td>\n",
              "      <td>0.000000</td>\n",
              "      <td>98001.000000</td>\n",
              "      <td>47.155900</td>\n",
              "      <td>-122.519000</td>\n",
              "      <td>399.000000</td>\n",
              "      <td>651.000000</td>\n",
              "    </tr>\n",
              "    <tr>\n",
              "      <th>25%</th>\n",
              "      <td>2.123049e+09</td>\n",
              "      <td>3.215000e+05</td>\n",
              "      <td>3.000000</td>\n",
              "      <td>1.750000</td>\n",
              "      <td>1423.500000</td>\n",
              "      <td>5.040000e+03</td>\n",
              "      <td>1.000000</td>\n",
              "      <td>0.000000</td>\n",
              "      <td>0.000000</td>\n",
              "      <td>3.000000</td>\n",
              "      <td>7.000000</td>\n",
              "      <td>1190.000000</td>\n",
              "      <td>0.000000</td>\n",
              "      <td>1951.000000</td>\n",
              "      <td>0.000000</td>\n",
              "      <td>98033.000000</td>\n",
              "      <td>47.470850</td>\n",
              "      <td>-122.328000</td>\n",
              "      <td>1490.000000</td>\n",
              "      <td>5100.000000</td>\n",
              "    </tr>\n",
              "    <tr>\n",
              "      <th>50%</th>\n",
              "      <td>3.904930e+09</td>\n",
              "      <td>4.500000e+05</td>\n",
              "      <td>3.000000</td>\n",
              "      <td>2.250000</td>\n",
              "      <td>1910.000000</td>\n",
              "      <td>7.620000e+03</td>\n",
              "      <td>1.500000</td>\n",
              "      <td>0.000000</td>\n",
              "      <td>0.000000</td>\n",
              "      <td>3.000000</td>\n",
              "      <td>7.000000</td>\n",
              "      <td>1560.000000</td>\n",
              "      <td>0.000000</td>\n",
              "      <td>1975.000000</td>\n",
              "      <td>0.000000</td>\n",
              "      <td>98065.000000</td>\n",
              "      <td>47.571800</td>\n",
              "      <td>-122.231000</td>\n",
              "      <td>1840.000000</td>\n",
              "      <td>7620.000000</td>\n",
              "    </tr>\n",
              "    <tr>\n",
              "      <th>75%</th>\n",
              "      <td>7.308900e+09</td>\n",
              "      <td>6.450000e+05</td>\n",
              "      <td>4.000000</td>\n",
              "      <td>2.500000</td>\n",
              "      <td>2550.000000</td>\n",
              "      <td>1.069200e+04</td>\n",
              "      <td>2.000000</td>\n",
              "      <td>0.000000</td>\n",
              "      <td>0.000000</td>\n",
              "      <td>4.000000</td>\n",
              "      <td>8.000000</td>\n",
              "      <td>2210.000000</td>\n",
              "      <td>560.000000</td>\n",
              "      <td>1997.000000</td>\n",
              "      <td>0.000000</td>\n",
              "      <td>98118.000000</td>\n",
              "      <td>47.678000</td>\n",
              "      <td>-122.125000</td>\n",
              "      <td>2360.000000</td>\n",
              "      <td>10083.000000</td>\n",
              "    </tr>\n",
              "    <tr>\n",
              "      <th>max</th>\n",
              "      <td>9.900000e+09</td>\n",
              "      <td>7.700000e+06</td>\n",
              "      <td>33.000000</td>\n",
              "      <td>8.000000</td>\n",
              "      <td>13540.000000</td>\n",
              "      <td>1.651359e+06</td>\n",
              "      <td>3.500000</td>\n",
              "      <td>1.000000</td>\n",
              "      <td>4.000000</td>\n",
              "      <td>5.000000</td>\n",
              "      <td>13.000000</td>\n",
              "      <td>9410.000000</td>\n",
              "      <td>4820.000000</td>\n",
              "      <td>2015.000000</td>\n",
              "      <td>2015.000000</td>\n",
              "      <td>98199.000000</td>\n",
              "      <td>47.777600</td>\n",
              "      <td>-121.315000</td>\n",
              "      <td>6210.000000</td>\n",
              "      <td>871200.000000</td>\n",
              "    </tr>\n",
              "  </tbody>\n",
              "</table>\n",
              "</div>"
            ],
            "text/plain": [
              "                 id         price  ...  sqft_living15     sqft_lot15\n",
              "count  2.160700e+04  2.160700e+04  ...   21607.000000   21607.000000\n",
              "mean   4.580020e+09  5.401757e+05  ...    1986.484889   12769.608460\n",
              "std    2.876528e+09  3.674129e+05  ...     685.460263   27307.765664\n",
              "min    1.000102e+06  7.500000e+04  ...     399.000000     651.000000\n",
              "25%    2.123049e+09  3.215000e+05  ...    1490.000000    5100.000000\n",
              "50%    3.904930e+09  4.500000e+05  ...    1840.000000    7620.000000\n",
              "75%    7.308900e+09  6.450000e+05  ...    2360.000000   10083.000000\n",
              "max    9.900000e+09  7.700000e+06  ...    6210.000000  871200.000000\n",
              "\n",
              "[8 rows x 20 columns]"
            ]
          },
          "metadata": {
            "tags": []
          },
          "execution_count": 14
        }
      ]
    },
    {
      "cell_type": "code",
      "metadata": {
        "colab": {
          "base_uri": "https://localhost:8080/"
        },
        "id": "49ZuYXzo_RVK",
        "outputId": "ac423a68-7683-4cfb-9697-390b315316c2"
      },
      "source": [
        "df_house.drop(['id'], axis=1)\n",
        "col = list(df_house.columns)\n",
        "for i in col:\n",
        "  max_thresold_h_s = df_house[i].quantile(0.95)\n",
        "  min_thresold_h_s = df_house[i].quantile(0.05)\n",
        "  df_house2 = df_house[(df_house[i]<max_thresold_h_s) & (df_house[i]>min_thresold_h_s)]\n",
        "  num = df_house.shape[0]-df_house2.shape[0]\n",
        "  print(f'{num} outliers valuecount in column {i}')\n",
        "  print(' ')"
      ],
      "execution_count": 15,
      "outputs": [
        {
          "output_type": "stream",
          "text": [
            "2162 outliers valuecount in column id\n",
            " \n",
            "2175 outliers valuecount in column price\n",
            " \n",
            "4907 outliers valuecount in column bedrooms\n",
            " \n",
            "5226 outliers valuecount in column bathrooms\n",
            " \n",
            "2231 outliers valuecount in column sqft_living\n",
            " \n",
            "2163 outliers valuecount in column sqft_lot\n",
            " \n",
            "19697 outliers valuecount in column floors\n",
            " \n",
            "21607 outliers valuecount in column waterfront\n",
            " \n",
            "21275 outliers valuecount in column view\n",
            " \n",
            "15930 outliers valuecount in column condition\n",
            " \n",
            "3949 outliers valuecount in column grade\n",
            " \n",
            "2202 outliers valuecount in column sqft_above\n",
            " \n",
            "14215 outliers valuecount in column sqft_basement\n",
            " \n",
            "2206 outliers valuecount in column yr_built\n",
            " \n",
            "21607 outliers valuecount in column yr_renovated\n",
            " \n",
            "2408 outliers valuecount in column zipcode\n",
            " \n",
            "2164 outliers valuecount in column lat\n",
            " \n",
            "2220 outliers valuecount in column long\n",
            " \n",
            "2201 outliers valuecount in column sqft_living15\n",
            " \n",
            "2162 outliers valuecount in column sqft_lot15\n",
            " \n"
          ],
          "name": "stdout"
        }
      ]
    },
    {
      "cell_type": "code",
      "metadata": {
        "colab": {
          "base_uri": "https://localhost:8080/",
          "height": 1000
        },
        "id": "0azPAcUiBYy7",
        "outputId": "94ab6227-93ec-4059-92a3-4741a03e7ea4"
      },
      "source": [
        "df_house2=df_house.drop(['id'],axis=1)\n",
        "names = list(df_house2.columns)\n",
        "\n",
        "fig, axes = plt.subplots(10,2, figsize=(20,20))  \n",
        "\n",
        "y = 0\n",
        "for name in names:\n",
        "  i, j = divmod(y, 2)\n",
        "  sns.boxplot(x=df_house[name], ax=axes[i, j])\n",
        "  axes[i, j].set_title(f'Box plot of {name}', fontsize=20)\n",
        "  y+=1\n",
        "\n",
        "plt.tight_layout()\n",
        "plt.show()\n"
      ],
      "execution_count": 16,
      "outputs": [
        {
          "output_type": "display_data",
          "data": {
            "image/png": "[encoded data removed]",
            "text/plain": [
              "<Figure size 1440x1440 with 20 Axes>"
            ]
          },
          "metadata": {
            "tags": [],
            "needs_background": "light"
          }
        }
      ]
    },
    {
      "cell_type": "markdown",
      "metadata": {
        "id": "LyqCBSQtFaoR"
      },
      "source": [
        "### Univariate analysis"
      ]
    },
    {
      "cell_type": "code",
      "metadata": {
        "colab": {
          "base_uri": "https://localhost:8080/"
        },
        "id": "PVyNuvMPx5S-",
        "outputId": "35683c0e-022c-4f5e-d858-ef6cdd1a24d2"
      },
      "source": [
        "df_house['price'].describe()"
      ],
      "execution_count": 17,
      "outputs": [
        {
          "output_type": "execute_result",
          "data": {
            "text/plain": [
              "count    2.160700e+04\n",
              "mean     5.401757e+05\n",
              "std      3.674129e+05\n",
              "min      7.500000e+04\n",
              "25%      3.215000e+05\n",
              "50%      4.500000e+05\n",
              "75%      6.450000e+05\n",
              "max      7.700000e+06\n",
              "Name: price, dtype: float64"
            ]
          },
          "metadata": {
            "tags": []
          },
          "execution_count": 17
        }
      ]
    },
    {
      "cell_type": "code",
      "metadata": {
        "colab": {
          "base_uri": "https://localhost:8080/",
          "height": 331
        },
        "id": "5slJjAteyP41",
        "outputId": "2e26904a-58a5-46ef-9f1c-972f9e7bd330"
      },
      "source": [
        "#histogram\n",
        "sns.distplot(df_house['price'], bins=50, kde=False);\n"
      ],
      "execution_count": 18,
      "outputs": [
        {
          "output_type": "stream",
          "text": [
            "/usr/local/lib/python3.6/dist-packages/seaborn/distributions.py:2551: FutureWarning: `distplot` is a deprecated function and will be removed in a future version. Please adapt your code to use either `displot` (a figure-level function with similar flexibility) or `histplot` (an axes-level function for histograms).\n",
            "  warnings.warn(msg, FutureWarning)\n"
          ],
          "name": "stderr"
        },
        {
          "output_type": "display_data",
          "data": {
            "image/png": "[encoded data removed]",
            "text/plain": [
              "<Figure size 432x288 with 1 Axes>"
            ]
          },
          "metadata": {
            "tags": [],
            "needs_background": "light"
          }
        }
      ]
    },
    {
      "cell_type": "markdown",
      "metadata": {
        "id": "5HG25Mz1yXLC"
      },
      "source": [
        ">> Given from the histogram: The price of the houses has appreciable positive skewness, deviates from the normal distribution and shows peakedness. Let's take a look at the skewness and kurtosis in numbers:"
      ]
    },
    {
      "cell_type": "code",
      "metadata": {
        "colab": {
          "base_uri": "https://localhost:8080/"
        },
        "id": "Ucj_sb30yP12",
        "outputId": "52031610-ae26-4f8c-e31d-ce17de4533c9"
      },
      "source": [
        "print(\"Skewness: %f\" % df_house['price'].skew())\n",
        "print(\"Kurtosis: %f\" % df_house['price'].kurt())"
      ],
      "execution_count": 19,
      "outputs": [
        {
          "output_type": "stream",
          "text": [
            "Skewness: 4.021219\n",
            "Kurtosis: 34.512431\n"
          ],
          "name": "stdout"
        }
      ]
    },
    {
      "cell_type": "markdown",
      "metadata": {
        "id": "urSp60o0y1Zj"
      },
      "source": [
        ">> This is quite significant. At the data standardisation section, we will fix this."
      ]
    },
    {
      "cell_type": "code",
      "metadata": {
        "colab": {
          "base_uri": "https://localhost:8080/"
        },
        "id": "dfC9JcANIJcK",
        "outputId": "312cc219-8b99-45f9-94c2-24f043de8b13"
      },
      "source": [
        "pip install"
      ],
      "execution_count": 20,
      "outputs": [
        {
          "output_type": "stream",
          "text": [
            "\u001b[31mERROR: You must give at least one requirement to install (see \"pip help install\")\u001b[0m\n"
          ],
          "name": "stdout"
        }
      ]
    },
    {
      "cell_type": "code",
      "metadata": {
        "colab": {
          "base_uri": "https://localhost:8080/",
          "height": 321
        },
        "id": "4Ux1SMikFhl4",
        "outputId": "50508f5e-cb69-4c26-830f-5888cf927b09"
      },
      "source": [
        "from shapely.geometry import Point\n",
        "import geopanda as gpd\n",
        "from geopandas import GeoDataFrame"
      ],
      "execution_count": 21,
      "outputs": [
        {
          "output_type": "error",
          "ename": "ModuleNotFoundError",
          "evalue": "ignored",
          "traceback": [
            "\u001b[0;31m---------------------------------------------------------------------------\u001b[0m",
            "\u001b[0;31mModuleNotFoundError\u001b[0m                       Traceback (most recent call last)",
            "\u001b[0;32m<ipython-input-21-872ed41a1b68>\u001b[0m in \u001b[0;36m<module>\u001b[0;34m()\u001b[0m\n\u001b[1;32m      1\u001b[0m \u001b[0;32mfrom\u001b[0m \u001b[0mshapely\u001b[0m\u001b[0;34m.\u001b[0m\u001b[0mgeometry\u001b[0m \u001b[0;32mimport\u001b[0m \u001b[0mPoint\u001b[0m\u001b[0;34m\u001b[0m\u001b[0;34m\u001b[0m\u001b[0m\n\u001b[0;32m----> 2\u001b[0;31m \u001b[0;32mimport\u001b[0m \u001b[0mgeopanda\u001b[0m \u001b[0;32mas\u001b[0m \u001b[0mgpd\u001b[0m\u001b[0;34m\u001b[0m\u001b[0;34m\u001b[0m\u001b[0m\n\u001b[0m\u001b[1;32m      3\u001b[0m \u001b[0;32mfrom\u001b[0m \u001b[0mgeopandas\u001b[0m \u001b[0;32mimport\u001b[0m \u001b[0mGeoDataFrame\u001b[0m\u001b[0;34m\u001b[0m\u001b[0;34m\u001b[0m\u001b[0m\n",
            "\u001b[0;31mModuleNotFoundError\u001b[0m: No module named 'geopanda'",
            "",
            "\u001b[0;31m---------------------------------------------------------------------------\u001b[0;32m\nNOTE: If your import is failing due to a missing package, you can\nmanually install dependencies using either !pip or !apt.\n\nTo view examples of installing some common dependencies, click the\n\"Open Examples\" button below.\n\u001b[0;31m---------------------------------------------------------------------------\u001b[0m\n"
          ]
        }
      ]
    },
    {
      "cell_type": "markdown",
      "metadata": {
        "id": "wONjLY58pcLg"
      },
      "source": [
        "### Bivariate Analysis"
      ]
    },
    {
      "cell_type": "markdown",
      "metadata": {
        "id": "sCZASjiJtGCl"
      },
      "source": [
        ">> Before we proceed with our Linear Regression implementation, we need to check whether the values are correlated, meaning the variables that we consider to be independent have an influence over the dependent variable.\n",
        "\n",
        "For this we can use the Pearson coefficient to measure the correlation between any 2 variables. The Pearson coefficient is a value between [-1, 1] which indicates the strength and the direction of the correlation between 2 variables.\n",
        "\n",
        "The closer the Pearson coefficient is to the margins of the interval (-1 or 1), the stronger the correlation is.\n",
        "A value closer to 0 indicates a lower correlation.\n",
        "A negative value indicates a negative correlation between the independent and the dependent variables. An increase in the independent variable will cause a decrease in the dependent variable.\n",
        "A positive value indicates a positive correlation between the independent and the dependent variable. An increase in the independent variable will cause the dependent variable to also increase.\n",
        "We can use pandas to display the correlations between each and every variable."
      ]
    },
    {
      "cell_type": "code",
      "metadata": {
        "colab": {
          "base_uri": "https://localhost:8080/",
          "height": 642
        },
        "id": "IEK2ZAl0tXHQ",
        "outputId": "13822b11-f073-4b98-d3d9-2e7b7c3a590e"
      },
      "source": [
        "# Correlations\n",
        "correlations = df_house.corr(method='pearson')\n",
        "(correlations)"
      ],
      "execution_count": 22,
      "outputs": [
        {
          "output_type": "execute_result",
          "data": {
            "text/html": [
              "<div>\n",
              "<style scoped>\n",
              "    .dataframe tbody tr th:only-of-type {\n",
              "        vertical-align: middle;\n",
              "    }\n",
              "\n",
              "    .dataframe tbody tr th {\n",
              "        vertical-align: top;\n",
              "    }\n",
              "\n",
              "    .dataframe thead th {\n",
              "        text-align: right;\n",
              "    }\n",
              "</style>\n",
              "<table border=\"1\" class=\"dataframe\">\n",
              "  <thead>\n",
              "    <tr style=\"text-align: right;\">\n",
              "      <th></th>\n",
              "      <th>id</th>\n",
              "      <th>price</th>\n",
              "      <th>bedrooms</th>\n",
              "      <th>bathrooms</th>\n",
              "      <th>sqft_living</th>\n",
              "      <th>sqft_lot</th>\n",
              "      <th>floors</th>\n",
              "      <th>waterfront</th>\n",
              "      <th>view</th>\n",
              "      <th>condition</th>\n",
              "      <th>grade</th>\n",
              "      <th>sqft_above</th>\n",
              "      <th>sqft_basement</th>\n",
              "      <th>yr_built</th>\n",
              "      <th>yr_renovated</th>\n",
              "      <th>zipcode</th>\n",
              "      <th>lat</th>\n",
              "      <th>long</th>\n",
              "      <th>sqft_living15</th>\n",
              "      <th>sqft_lot15</th>\n",
              "    </tr>\n",
              "  </thead>\n",
              "  <tbody>\n",
              "    <tr>\n",
              "      <th>id</th>\n",
              "      <td>1.000000</td>\n",
              "      <td>-0.016810</td>\n",
              "      <td>0.001421</td>\n",
              "      <td>0.005026</td>\n",
              "      <td>-0.012221</td>\n",
              "      <td>-0.132093</td>\n",
              "      <td>0.018439</td>\n",
              "      <td>-0.002713</td>\n",
              "      <td>0.011978</td>\n",
              "      <td>-0.023590</td>\n",
              "      <td>0.008056</td>\n",
              "      <td>-0.010873</td>\n",
              "      <td>-0.005018</td>\n",
              "      <td>0.021056</td>\n",
              "      <td>-0.016469</td>\n",
              "      <td>-0.008034</td>\n",
              "      <td>-0.001832</td>\n",
              "      <td>0.020754</td>\n",
              "      <td>-0.002837</td>\n",
              "      <td>-0.138757</td>\n",
              "    </tr>\n",
              "    <tr>\n",
              "      <th>price</th>\n",
              "      <td>-0.016810</td>\n",
              "      <td>1.000000</td>\n",
              "      <td>0.308354</td>\n",
              "      <td>0.525146</td>\n",
              "      <td>0.702048</td>\n",
              "      <td>0.089660</td>\n",
              "      <td>0.256801</td>\n",
              "      <td>0.266333</td>\n",
              "      <td>0.397586</td>\n",
              "      <td>0.036402</td>\n",
              "      <td>0.667494</td>\n",
              "      <td>0.605572</td>\n",
              "      <td>0.323860</td>\n",
              "      <td>0.053979</td>\n",
              "      <td>0.126565</td>\n",
              "      <td>-0.053156</td>\n",
              "      <td>0.306925</td>\n",
              "      <td>0.021564</td>\n",
              "      <td>0.585391</td>\n",
              "      <td>0.082459</td>\n",
              "    </tr>\n",
              "    <tr>\n",
              "      <th>bedrooms</th>\n",
              "      <td>0.001421</td>\n",
              "      <td>0.308354</td>\n",
              "      <td>1.000000</td>\n",
              "      <td>0.515986</td>\n",
              "      <td>0.576677</td>\n",
              "      <td>0.031695</td>\n",
              "      <td>0.175467</td>\n",
              "      <td>-0.006584</td>\n",
              "      <td>0.079335</td>\n",
              "      <td>0.028372</td>\n",
              "      <td>0.357039</td>\n",
              "      <td>0.477637</td>\n",
              "      <td>0.303060</td>\n",
              "      <td>0.154373</td>\n",
              "      <td>0.018550</td>\n",
              "      <td>-0.152773</td>\n",
              "      <td>-0.008975</td>\n",
              "      <td>0.129474</td>\n",
              "      <td>0.391628</td>\n",
              "      <td>0.029221</td>\n",
              "    </tr>\n",
              "    <tr>\n",
              "      <th>bathrooms</th>\n",
              "      <td>0.005026</td>\n",
              "      <td>0.525146</td>\n",
              "      <td>0.515986</td>\n",
              "      <td>1.000000</td>\n",
              "      <td>0.754710</td>\n",
              "      <td>0.087761</td>\n",
              "      <td>0.500685</td>\n",
              "      <td>0.063750</td>\n",
              "      <td>0.188045</td>\n",
              "      <td>-0.124897</td>\n",
              "      <td>0.664997</td>\n",
              "      <td>0.685359</td>\n",
              "      <td>0.283858</td>\n",
              "      <td>0.505974</td>\n",
              "      <td>0.051020</td>\n",
              "      <td>-0.203796</td>\n",
              "      <td>0.024606</td>\n",
              "      <td>0.223052</td>\n",
              "      <td>0.568696</td>\n",
              "      <td>0.087207</td>\n",
              "    </tr>\n",
              "    <tr>\n",
              "      <th>sqft_living</th>\n",
              "      <td>-0.012221</td>\n",
              "      <td>0.702048</td>\n",
              "      <td>0.576677</td>\n",
              "      <td>0.754710</td>\n",
              "      <td>1.000000</td>\n",
              "      <td>0.172835</td>\n",
              "      <td>0.353958</td>\n",
              "      <td>0.103822</td>\n",
              "      <td>0.284670</td>\n",
              "      <td>-0.058783</td>\n",
              "      <td>0.762734</td>\n",
              "      <td>0.876604</td>\n",
              "      <td>0.435065</td>\n",
              "      <td>0.318149</td>\n",
              "      <td>0.055265</td>\n",
              "      <td>-0.199440</td>\n",
              "      <td>0.052512</td>\n",
              "      <td>0.240220</td>\n",
              "      <td>0.756419</td>\n",
              "      <td>0.183285</td>\n",
              "    </tr>\n",
              "    <tr>\n",
              "      <th>sqft_lot</th>\n",
              "      <td>-0.132093</td>\n",
              "      <td>0.089660</td>\n",
              "      <td>0.031695</td>\n",
              "      <td>0.087761</td>\n",
              "      <td>0.172835</td>\n",
              "      <td>1.000000</td>\n",
              "      <td>-0.005142</td>\n",
              "      <td>0.021598</td>\n",
              "      <td>0.074795</td>\n",
              "      <td>-0.008976</td>\n",
              "      <td>0.113667</td>\n",
              "      <td>0.183541</td>\n",
              "      <td>0.015257</td>\n",
              "      <td>0.053130</td>\n",
              "      <td>0.007712</td>\n",
              "      <td>-0.129648</td>\n",
              "      <td>-0.085677</td>\n",
              "      <td>0.229583</td>\n",
              "      <td>0.144632</td>\n",
              "      <td>0.718555</td>\n",
              "    </tr>\n",
              "    <tr>\n",
              "      <th>floors</th>\n",
              "      <td>0.018439</td>\n",
              "      <td>0.256801</td>\n",
              "      <td>0.175467</td>\n",
              "      <td>0.500685</td>\n",
              "      <td>0.353958</td>\n",
              "      <td>-0.005142</td>\n",
              "      <td>1.000000</td>\n",
              "      <td>0.023724</td>\n",
              "      <td>0.029205</td>\n",
              "      <td>-0.263789</td>\n",
              "      <td>0.458120</td>\n",
              "      <td>0.523864</td>\n",
              "      <td>-0.245642</td>\n",
              "      <td>0.489375</td>\n",
              "      <td>0.005973</td>\n",
              "      <td>-0.058930</td>\n",
              "      <td>0.049572</td>\n",
              "      <td>0.125266</td>\n",
              "      <td>0.279838</td>\n",
              "      <td>-0.011231</td>\n",
              "    </tr>\n",
              "    <tr>\n",
              "      <th>waterfront</th>\n",
              "      <td>-0.002713</td>\n",
              "      <td>0.266333</td>\n",
              "      <td>-0.006584</td>\n",
              "      <td>0.063750</td>\n",
              "      <td>0.103822</td>\n",
              "      <td>0.021598</td>\n",
              "      <td>0.023724</td>\n",
              "      <td>1.000000</td>\n",
              "      <td>0.402128</td>\n",
              "      <td>0.016652</td>\n",
              "      <td>0.082795</td>\n",
              "      <td>0.072085</td>\n",
              "      <td>0.080582</td>\n",
              "      <td>-0.026157</td>\n",
              "      <td>0.093016</td>\n",
              "      <td>0.030269</td>\n",
              "      <td>-0.014270</td>\n",
              "      <td>-0.041897</td>\n",
              "      <td>0.086475</td>\n",
              "      <td>0.030700</td>\n",
              "    </tr>\n",
              "    <tr>\n",
              "      <th>view</th>\n",
              "      <td>0.011978</td>\n",
              "      <td>0.397586</td>\n",
              "      <td>0.079335</td>\n",
              "      <td>0.188045</td>\n",
              "      <td>0.284670</td>\n",
              "      <td>0.074795</td>\n",
              "      <td>0.029205</td>\n",
              "      <td>0.402128</td>\n",
              "      <td>1.000000</td>\n",
              "      <td>0.045682</td>\n",
              "      <td>0.251435</td>\n",
              "      <td>0.167669</td>\n",
              "      <td>0.277046</td>\n",
              "      <td>-0.053019</td>\n",
              "      <td>0.102498</td>\n",
              "      <td>0.084849</td>\n",
              "      <td>0.005942</td>\n",
              "      <td>-0.078720</td>\n",
              "      <td>0.280369</td>\n",
              "      <td>0.072580</td>\n",
              "    </tr>\n",
              "    <tr>\n",
              "      <th>condition</th>\n",
              "      <td>-0.023590</td>\n",
              "      <td>0.036402</td>\n",
              "      <td>0.028372</td>\n",
              "      <td>-0.124897</td>\n",
              "      <td>-0.058783</td>\n",
              "      <td>-0.008976</td>\n",
              "      <td>-0.263789</td>\n",
              "      <td>0.016652</td>\n",
              "      <td>0.045682</td>\n",
              "      <td>1.000000</td>\n",
              "      <td>-0.144635</td>\n",
              "      <td>-0.158211</td>\n",
              "      <td>0.174037</td>\n",
              "      <td>-0.361278</td>\n",
              "      <td>-0.061106</td>\n",
              "      <td>0.002899</td>\n",
              "      <td>-0.015002</td>\n",
              "      <td>-0.106524</td>\n",
              "      <td>-0.092883</td>\n",
              "      <td>-0.003443</td>\n",
              "    </tr>\n",
              "    <tr>\n",
              "      <th>grade</th>\n",
              "      <td>0.008056</td>\n",
              "      <td>0.667494</td>\n",
              "      <td>0.357039</td>\n",
              "      <td>0.664997</td>\n",
              "      <td>0.762734</td>\n",
              "      <td>0.113667</td>\n",
              "      <td>0.458120</td>\n",
              "      <td>0.082795</td>\n",
              "      <td>0.251435</td>\n",
              "      <td>-0.144635</td>\n",
              "      <td>1.000000</td>\n",
              "      <td>0.755914</td>\n",
              "      <td>0.168494</td>\n",
              "      <td>0.446969</td>\n",
              "      <td>0.014330</td>\n",
              "      <td>-0.184728</td>\n",
              "      <td>0.114088</td>\n",
              "      <td>0.198322</td>\n",
              "      <td>0.713214</td>\n",
              "      <td>0.119283</td>\n",
              "    </tr>\n",
              "    <tr>\n",
              "      <th>sqft_above</th>\n",
              "      <td>-0.010873</td>\n",
              "      <td>0.605572</td>\n",
              "      <td>0.477637</td>\n",
              "      <td>0.685359</td>\n",
              "      <td>0.876604</td>\n",
              "      <td>0.183541</td>\n",
              "      <td>0.523864</td>\n",
              "      <td>0.072085</td>\n",
              "      <td>0.167669</td>\n",
              "      <td>-0.158211</td>\n",
              "      <td>0.755914</td>\n",
              "      <td>1.000000</td>\n",
              "      <td>-0.051903</td>\n",
              "      <td>0.423946</td>\n",
              "      <td>0.023181</td>\n",
              "      <td>-0.261135</td>\n",
              "      <td>-0.000830</td>\n",
              "      <td>0.343779</td>\n",
              "      <td>0.731870</td>\n",
              "      <td>0.194069</td>\n",
              "    </tr>\n",
              "    <tr>\n",
              "      <th>sqft_basement</th>\n",
              "      <td>-0.005018</td>\n",
              "      <td>0.323860</td>\n",
              "      <td>0.303060</td>\n",
              "      <td>0.283858</td>\n",
              "      <td>0.435065</td>\n",
              "      <td>0.015257</td>\n",
              "      <td>-0.245642</td>\n",
              "      <td>0.080582</td>\n",
              "      <td>0.277046</td>\n",
              "      <td>0.174037</td>\n",
              "      <td>0.168494</td>\n",
              "      <td>-0.051903</td>\n",
              "      <td>1.000000</td>\n",
              "      <td>-0.132999</td>\n",
              "      <td>0.071316</td>\n",
              "      <td>0.074718</td>\n",
              "      <td>0.110532</td>\n",
              "      <td>-0.144722</td>\n",
              "      <td>0.200379</td>\n",
              "      <td>0.017244</td>\n",
              "    </tr>\n",
              "    <tr>\n",
              "      <th>yr_built</th>\n",
              "      <td>0.021056</td>\n",
              "      <td>0.053979</td>\n",
              "      <td>0.154373</td>\n",
              "      <td>0.505974</td>\n",
              "      <td>0.318149</td>\n",
              "      <td>0.053130</td>\n",
              "      <td>0.489375</td>\n",
              "      <td>-0.026157</td>\n",
              "      <td>-0.053019</td>\n",
              "      <td>-0.361278</td>\n",
              "      <td>0.446969</td>\n",
              "      <td>0.423946</td>\n",
              "      <td>-0.132999</td>\n",
              "      <td>1.000000</td>\n",
              "      <td>-0.224584</td>\n",
              "      <td>-0.346746</td>\n",
              "      <td>-0.148075</td>\n",
              "      <td>0.409433</td>\n",
              "      <td>0.326366</td>\n",
              "      <td>0.071039</td>\n",
              "    </tr>\n",
              "    <tr>\n",
              "      <th>yr_renovated</th>\n",
              "      <td>-0.016469</td>\n",
              "      <td>0.126565</td>\n",
              "      <td>0.018550</td>\n",
              "      <td>0.051020</td>\n",
              "      <td>0.055265</td>\n",
              "      <td>0.007712</td>\n",
              "      <td>0.005973</td>\n",
              "      <td>0.093016</td>\n",
              "      <td>0.102498</td>\n",
              "      <td>-0.061106</td>\n",
              "      <td>0.014330</td>\n",
              "      <td>0.023181</td>\n",
              "      <td>0.071316</td>\n",
              "      <td>-0.224584</td>\n",
              "      <td>1.000000</td>\n",
              "      <td>0.064419</td>\n",
              "      <td>0.029144</td>\n",
              "      <td>-0.068817</td>\n",
              "      <td>-0.003010</td>\n",
              "      <td>0.007819</td>\n",
              "    </tr>\n",
              "    <tr>\n",
              "      <th>zipcode</th>\n",
              "      <td>-0.008034</td>\n",
              "      <td>-0.053156</td>\n",
              "      <td>-0.152773</td>\n",
              "      <td>-0.203796</td>\n",
              "      <td>-0.199440</td>\n",
              "      <td>-0.129648</td>\n",
              "      <td>-0.058930</td>\n",
              "      <td>0.030269</td>\n",
              "      <td>0.084849</td>\n",
              "      <td>0.002899</td>\n",
              "      <td>-0.184728</td>\n",
              "      <td>-0.261135</td>\n",
              "      <td>0.074718</td>\n",
              "      <td>-0.346746</td>\n",
              "      <td>0.064419</td>\n",
              "      <td>1.000000</td>\n",
              "      <td>0.267080</td>\n",
              "      <td>-0.564066</td>\n",
              "      <td>-0.279032</td>\n",
              "      <td>-0.147293</td>\n",
              "    </tr>\n",
              "    <tr>\n",
              "      <th>lat</th>\n",
              "      <td>-0.001832</td>\n",
              "      <td>0.306925</td>\n",
              "      <td>-0.008975</td>\n",
              "      <td>0.024606</td>\n",
              "      <td>0.052512</td>\n",
              "      <td>-0.085677</td>\n",
              "      <td>0.049572</td>\n",
              "      <td>-0.014270</td>\n",
              "      <td>0.005942</td>\n",
              "      <td>-0.015002</td>\n",
              "      <td>0.114088</td>\n",
              "      <td>-0.000830</td>\n",
              "      <td>0.110532</td>\n",
              "      <td>-0.148075</td>\n",
              "      <td>0.029144</td>\n",
              "      <td>0.267080</td>\n",
              "      <td>1.000000</td>\n",
              "      <td>-0.135578</td>\n",
              "      <td>0.048819</td>\n",
              "      <td>-0.086426</td>\n",
              "    </tr>\n",
              "    <tr>\n",
              "      <th>long</th>\n",
              "      <td>0.020754</td>\n",
              "      <td>0.021564</td>\n",
              "      <td>0.129474</td>\n",
              "      <td>0.223052</td>\n",
              "      <td>0.240220</td>\n",
              "      <td>0.229583</td>\n",
              "      <td>0.125266</td>\n",
              "      <td>-0.041897</td>\n",
              "      <td>-0.078720</td>\n",
              "      <td>-0.106524</td>\n",
              "      <td>0.198322</td>\n",
              "      <td>0.343779</td>\n",
              "      <td>-0.144722</td>\n",
              "      <td>0.409433</td>\n",
              "      <td>-0.068817</td>\n",
              "      <td>-0.564066</td>\n",
              "      <td>-0.135578</td>\n",
              "      <td>1.000000</td>\n",
              "      <td>0.334579</td>\n",
              "      <td>0.254499</td>\n",
              "    </tr>\n",
              "    <tr>\n",
              "      <th>sqft_living15</th>\n",
              "      <td>-0.002837</td>\n",
              "      <td>0.585391</td>\n",
              "      <td>0.391628</td>\n",
              "      <td>0.568696</td>\n",
              "      <td>0.756419</td>\n",
              "      <td>0.144632</td>\n",
              "      <td>0.279838</td>\n",
              "      <td>0.086475</td>\n",
              "      <td>0.280369</td>\n",
              "      <td>-0.092883</td>\n",
              "      <td>0.713214</td>\n",
              "      <td>0.731870</td>\n",
              "      <td>0.200379</td>\n",
              "      <td>0.326366</td>\n",
              "      <td>-0.003010</td>\n",
              "      <td>-0.279032</td>\n",
              "      <td>0.048819</td>\n",
              "      <td>0.334579</td>\n",
              "      <td>1.000000</td>\n",
              "      <td>0.183197</td>\n",
              "    </tr>\n",
              "    <tr>\n",
              "      <th>sqft_lot15</th>\n",
              "      <td>-0.138757</td>\n",
              "      <td>0.082459</td>\n",
              "      <td>0.029221</td>\n",
              "      <td>0.087207</td>\n",
              "      <td>0.183285</td>\n",
              "      <td>0.718555</td>\n",
              "      <td>-0.011231</td>\n",
              "      <td>0.030700</td>\n",
              "      <td>0.072580</td>\n",
              "      <td>-0.003443</td>\n",
              "      <td>0.119283</td>\n",
              "      <td>0.194069</td>\n",
              "      <td>0.017244</td>\n",
              "      <td>0.071039</td>\n",
              "      <td>0.007819</td>\n",
              "      <td>-0.147293</td>\n",
              "      <td>-0.086426</td>\n",
              "      <td>0.254499</td>\n",
              "      <td>0.183197</td>\n",
              "      <td>1.000000</td>\n",
              "    </tr>\n",
              "  </tbody>\n",
              "</table>\n",
              "</div>"
            ],
            "text/plain": [
              "                     id     price  ...  sqft_living15  sqft_lot15\n",
              "id             1.000000 -0.016810  ...      -0.002837   -0.138757\n",
              "price         -0.016810  1.000000  ...       0.585391    0.082459\n",
              "bedrooms       0.001421  0.308354  ...       0.391628    0.029221\n",
              "bathrooms      0.005026  0.525146  ...       0.568696    0.087207\n",
              "sqft_living   -0.012221  0.702048  ...       0.756419    0.183285\n",
              "sqft_lot      -0.132093  0.089660  ...       0.144632    0.718555\n",
              "floors         0.018439  0.256801  ...       0.279838   -0.011231\n",
              "waterfront    -0.002713  0.266333  ...       0.086475    0.030700\n",
              "view           0.011978  0.397586  ...       0.280369    0.072580\n",
              "condition     -0.023590  0.036402  ...      -0.092883   -0.003443\n",
              "grade          0.008056  0.667494  ...       0.713214    0.119283\n",
              "sqft_above    -0.010873  0.605572  ...       0.731870    0.194069\n",
              "sqft_basement -0.005018  0.323860  ...       0.200379    0.017244\n",
              "yr_built       0.021056  0.053979  ...       0.326366    0.071039\n",
              "yr_renovated  -0.016469  0.126565  ...      -0.003010    0.007819\n",
              "zipcode       -0.008034 -0.053156  ...      -0.279032   -0.147293\n",
              "lat           -0.001832  0.306925  ...       0.048819   -0.086426\n",
              "long           0.020754  0.021564  ...       0.334579    0.254499\n",
              "sqft_living15 -0.002837  0.585391  ...       1.000000    0.183197\n",
              "sqft_lot15    -0.138757  0.082459  ...       0.183197    1.000000\n",
              "\n",
              "[20 rows x 20 columns]"
            ]
          },
          "metadata": {
            "tags": []
          },
          "execution_count": 22
        }
      ]
    },
    {
      "cell_type": "markdown",
      "metadata": {
        "id": "Q46CoNM_tjHs"
      },
      "source": [
        ">> We can also use seaborn to display a heatmap of our correlations."
      ]
    },
    {
      "cell_type": "code",
      "metadata": {
        "colab": {
          "base_uri": "https://localhost:8080/",
          "height": 605
        },
        "id": "jz67nsAzpjUV",
        "outputId": "750f6536-efd5-4d63-ffcd-1c0d7d2beb89"
      },
      "source": [
        "corrmat = df_house.corr()\n",
        "f, ax = plt.subplots(figsize=(12, 9))\n",
        "sns.heatmap(corrmat, vmax=.8, square=True);"
      ],
      "execution_count": 23,
      "outputs": [
        {
          "output_type": "display_data",
          "data": {
            "image/png": "[encoded data removed]",
            "text/plain": [
              "<Figure size 864x648 with 2 Axes>"
            ]
          },
          "metadata": {
            "tags": [],
            "needs_background": "light"
          }
        }
      ]
    },
    {
      "cell_type": "code",
      "metadata": {
        "colab": {
          "base_uri": "https://localhost:8080/",
          "height": 658
        },
        "id": "uKN_9MNRp9Sc",
        "outputId": "aa87fb5d-dcf4-4b4b-e006-e2ab8516014b"
      },
      "source": [
        "k = 9 #number of variables for heatmap\n",
        "cols = corrmat.nlargest(k, 'price')['price'].index\n",
        "f, ax = plt.subplots(figsize=(14, 10))\n",
        "sns.heatmap(df_house[cols].corr(), vmax=.8, square=True);"
      ],
      "execution_count": 24,
      "outputs": [
        {
          "output_type": "display_data",
          "data": {
            "image/png": "[encoded data removed]",
            "text/plain": [
              "<Figure size 1008x720 with 2 Axes>"
            ]
          },
          "metadata": {
            "tags": [],
            "needs_background": "light"
          }
        }
      ]
    },
    {
      "cell_type": "markdown",
      "metadata": {
        "id": "obu6M14TtsVj"
      },
      "source": [
        ">> So we can draw the conclusion that the independent variables and the dependent variable are certainly correlated (some more, some less). But still, here we can start the Linear Regression implementation. With the depemdent variable being 'HOUSE PRICE'.We can check the importance (correlation value of each variable as listed below)."
      ]
    },
    {
      "cell_type": "code",
      "metadata": {
        "colab": {
          "base_uri": "https://localhost:8080/"
        },
        "id": "KVL3JNAOvlUN",
        "outputId": "273e8b1e-7272-4dcc-8447-e8b27a5b34fd"
      },
      "source": [
        "df_house.corr()['price'].sort_values(ascending=False)"
      ],
      "execution_count": 25,
      "outputs": [
        {
          "output_type": "execute_result",
          "data": {
            "text/plain": [
              "price            1.000000\n",
              "sqft_living      0.702048\n",
              "grade            0.667494\n",
              "sqft_above       0.605572\n",
              "sqft_living15    0.585391\n",
              "bathrooms        0.525146\n",
              "view             0.397586\n",
              "sqft_basement    0.323860\n",
              "bedrooms         0.308354\n",
              "lat              0.306925\n",
              "waterfront       0.266333\n",
              "floors           0.256801\n",
              "yr_renovated     0.126565\n",
              "sqft_lot         0.089660\n",
              "sqft_lot15       0.082459\n",
              "yr_built         0.053979\n",
              "condition        0.036402\n",
              "long             0.021564\n",
              "id              -0.016810\n",
              "zipcode         -0.053156\n",
              "Name: price, dtype: float64"
            ]
          },
          "metadata": {
            "tags": []
          },
          "execution_count": 25
        }
      ]
    },
    {
      "cell_type": "markdown",
      "metadata": {
        "id": "iQW78dMgtejF"
      },
      "source": [
        ">> If the dataset has large no. of features, then it is possible that few of the features may be highly correlated. This is called as multi-collinearity.\n",
        "Presence of multi-collinearity in data can destabilize the MLR model.\n",
        "Due to presence of multi-collinearity, it is possible that statistically significant feature may be labelled as statistically insignificant.\n",
        "Variance Inflation Factor (VIF):\n",
        "It measures the magnitude of multi-collinearity. For example, to find multi-collinearity between two features X1 and X2, we build regression model between them as X1=α0+α1X2 and let R² be the R-square value for regression model.\n",
        "Then variance inflation factor is given by VIF = 1/(1-R²). sqrt(VIF) of a feature is value that indicates by how much larger the standard error is increased, in presence of multicollinearity. If VIF=1 for all features, then features are not correlated. If VIF>4(threshold, some suggest 10), then we need to check the impact of multi-collinearity.lets check for multicolinearity:-"
      ]
    },
    {
      "cell_type": "code",
      "metadata": {
        "id": "tQrtGxHMuPjT"
      },
      "source": [
        ""
      ],
      "execution_count": null,
      "outputs": []
    },
    {
      "cell_type": "markdown",
      "metadata": {
        "id": "hamBO8Ovrryh"
      },
      "source": [
        ">>In this project we are going to use Python and Scikit-Learn to implement a Multiple Regression model that will try to predict house prices based on a few characteristics of those houses and historical data.(depending on our dataset)\n",
        "\n",
        "\n",
        "We need to install a few dependencies before we can continue."
      ]
    },
    {
      "cell_type": "code",
      "metadata": {
        "id": "anCxrXSpq_PE"
      },
      "source": [
        "from sklearn.model_selection import train_test_split\n",
        "from sklearn.linear_model import LinearRegression\n",
        "from sklearn.metrics import mean_squared_error"
      ],
      "execution_count": 34,
      "outputs": []
    },
    {
      "cell_type": "markdown",
      "metadata": {
        "id": "KVt1yKAmsM7K"
      },
      "source": [
        ">> Having loaded the dataset into a dataframe already, we can go on and  get a few interesting statistics about it."
      ]
    },
    {
      "cell_type": "code",
      "metadata": {
        "colab": {
          "base_uri": "https://localhost:8080/",
          "height": 297
        },
        "id": "P0UZZzfUrSO6",
        "outputId": "bf047c73-33af-49fc-d883-8477d47a645e"
      },
      "source": [
        "# Statistics\n",
        "(df_house.describe())"
      ],
      "execution_count": 35,
      "outputs": [
        {
          "output_type": "execute_result",
          "data": {
            "text/html": [
              "<div>\n",
              "<style scoped>\n",
              "    .dataframe tbody tr th:only-of-type {\n",
              "        vertical-align: middle;\n",
              "    }\n",
              "\n",
              "    .dataframe tbody tr th {\n",
              "        vertical-align: top;\n",
              "    }\n",
              "\n",
              "    .dataframe thead th {\n",
              "        text-align: right;\n",
              "    }\n",
              "</style>\n",
              "<table border=\"1\" class=\"dataframe\">\n",
              "  <thead>\n",
              "    <tr style=\"text-align: right;\">\n",
              "      <th></th>\n",
              "      <th>id</th>\n",
              "      <th>price</th>\n",
              "      <th>bedrooms</th>\n",
              "      <th>bathrooms</th>\n",
              "      <th>sqft_living</th>\n",
              "      <th>sqft_lot</th>\n",
              "      <th>floors</th>\n",
              "      <th>waterfront</th>\n",
              "      <th>view</th>\n",
              "      <th>condition</th>\n",
              "      <th>grade</th>\n",
              "      <th>sqft_above</th>\n",
              "      <th>sqft_basement</th>\n",
              "      <th>yr_built</th>\n",
              "      <th>yr_renovated</th>\n",
              "      <th>zipcode</th>\n",
              "      <th>lat</th>\n",
              "      <th>long</th>\n",
              "      <th>sqft_living15</th>\n",
              "      <th>sqft_lot15</th>\n",
              "    </tr>\n",
              "  </thead>\n",
              "  <tbody>\n",
              "    <tr>\n",
              "      <th>count</th>\n",
              "      <td>2.160700e+04</td>\n",
              "      <td>2.160700e+04</td>\n",
              "      <td>21607.000000</td>\n",
              "      <td>21607.000000</td>\n",
              "      <td>21607.000000</td>\n",
              "      <td>2.160700e+04</td>\n",
              "      <td>21607.000000</td>\n",
              "      <td>21607.000000</td>\n",
              "      <td>21607.000000</td>\n",
              "      <td>21607.000000</td>\n",
              "      <td>21607.000000</td>\n",
              "      <td>21607.000000</td>\n",
              "      <td>21607.000000</td>\n",
              "      <td>21607.000000</td>\n",
              "      <td>21607.000000</td>\n",
              "      <td>21607.000000</td>\n",
              "      <td>21607.000000</td>\n",
              "      <td>21607.000000</td>\n",
              "      <td>21607.000000</td>\n",
              "      <td>21607.000000</td>\n",
              "    </tr>\n",
              "    <tr>\n",
              "      <th>mean</th>\n",
              "      <td>4.580020e+09</td>\n",
              "      <td>5.401757e+05</td>\n",
              "      <td>3.370852</td>\n",
              "      <td>2.114720</td>\n",
              "      <td>2079.862683</td>\n",
              "      <td>1.510961e+04</td>\n",
              "      <td>1.494169</td>\n",
              "      <td>0.007544</td>\n",
              "      <td>0.234091</td>\n",
              "      <td>3.409451</td>\n",
              "      <td>7.656685</td>\n",
              "      <td>1788.305086</td>\n",
              "      <td>291.557597</td>\n",
              "      <td>1971.002083</td>\n",
              "      <td>84.242421</td>\n",
              "      <td>98077.951543</td>\n",
              "      <td>47.560045</td>\n",
              "      <td>-122.213923</td>\n",
              "      <td>1986.484889</td>\n",
              "      <td>12769.608460</td>\n",
              "    </tr>\n",
              "    <tr>\n",
              "      <th>std</th>\n",
              "      <td>2.876528e+09</td>\n",
              "      <td>3.674129e+05</td>\n",
              "      <td>0.930158</td>\n",
              "      <td>0.770244</td>\n",
              "      <td>918.559712</td>\n",
              "      <td>4.142594e+04</td>\n",
              "      <td>0.539998</td>\n",
              "      <td>0.086529</td>\n",
              "      <td>0.765955</td>\n",
              "      <td>0.650785</td>\n",
              "      <td>1.175542</td>\n",
              "      <td>828.186477</td>\n",
              "      <td>442.618358</td>\n",
              "      <td>29.371866</td>\n",
              "      <td>401.319142</td>\n",
              "      <td>53.505719</td>\n",
              "      <td>0.138580</td>\n",
              "      <td>0.140837</td>\n",
              "      <td>685.460263</td>\n",
              "      <td>27307.765664</td>\n",
              "    </tr>\n",
              "    <tr>\n",
              "      <th>min</th>\n",
              "      <td>1.000102e+06</td>\n",
              "      <td>7.500000e+04</td>\n",
              "      <td>0.000000</td>\n",
              "      <td>0.000000</td>\n",
              "      <td>290.000000</td>\n",
              "      <td>5.200000e+02</td>\n",
              "      <td>1.000000</td>\n",
              "      <td>0.000000</td>\n",
              "      <td>0.000000</td>\n",
              "      <td>1.000000</td>\n",
              "      <td>1.000000</td>\n",
              "      <td>290.000000</td>\n",
              "      <td>0.000000</td>\n",
              "      <td>1900.000000</td>\n",
              "      <td>0.000000</td>\n",
              "      <td>98001.000000</td>\n",
              "      <td>47.155900</td>\n",
              "      <td>-122.519000</td>\n",
              "      <td>399.000000</td>\n",
              "      <td>651.000000</td>\n",
              "    </tr>\n",
              "    <tr>\n",
              "      <th>25%</th>\n",
              "      <td>2.123049e+09</td>\n",
              "      <td>3.215000e+05</td>\n",
              "      <td>3.000000</td>\n",
              "      <td>1.750000</td>\n",
              "      <td>1423.500000</td>\n",
              "      <td>5.040000e+03</td>\n",
              "      <td>1.000000</td>\n",
              "      <td>0.000000</td>\n",
              "      <td>0.000000</td>\n",
              "      <td>3.000000</td>\n",
              "      <td>7.000000</td>\n",
              "      <td>1190.000000</td>\n",
              "      <td>0.000000</td>\n",
              "      <td>1951.000000</td>\n",
              "      <td>0.000000</td>\n",
              "      <td>98033.000000</td>\n",
              "      <td>47.470850</td>\n",
              "      <td>-122.328000</td>\n",
              "      <td>1490.000000</td>\n",
              "      <td>5100.000000</td>\n",
              "    </tr>\n",
              "    <tr>\n",
              "      <th>50%</th>\n",
              "      <td>3.904930e+09</td>\n",
              "      <td>4.500000e+05</td>\n",
              "      <td>3.000000</td>\n",
              "      <td>2.250000</td>\n",
              "      <td>1910.000000</td>\n",
              "      <td>7.620000e+03</td>\n",
              "      <td>1.500000</td>\n",
              "      <td>0.000000</td>\n",
              "      <td>0.000000</td>\n",
              "      <td>3.000000</td>\n",
              "      <td>7.000000</td>\n",
              "      <td>1560.000000</td>\n",
              "      <td>0.000000</td>\n",
              "      <td>1975.000000</td>\n",
              "      <td>0.000000</td>\n",
              "      <td>98065.000000</td>\n",
              "      <td>47.571800</td>\n",
              "      <td>-122.231000</td>\n",
              "      <td>1840.000000</td>\n",
              "      <td>7620.000000</td>\n",
              "    </tr>\n",
              "    <tr>\n",
              "      <th>75%</th>\n",
              "      <td>7.308900e+09</td>\n",
              "      <td>6.450000e+05</td>\n",
              "      <td>4.000000</td>\n",
              "      <td>2.500000</td>\n",
              "      <td>2550.000000</td>\n",
              "      <td>1.069200e+04</td>\n",
              "      <td>2.000000</td>\n",
              "      <td>0.000000</td>\n",
              "      <td>0.000000</td>\n",
              "      <td>4.000000</td>\n",
              "      <td>8.000000</td>\n",
              "      <td>2210.000000</td>\n",
              "      <td>560.000000</td>\n",
              "      <td>1997.000000</td>\n",
              "      <td>0.000000</td>\n",
              "      <td>98118.000000</td>\n",
              "      <td>47.678000</td>\n",
              "      <td>-122.125000</td>\n",
              "      <td>2360.000000</td>\n",
              "      <td>10083.000000</td>\n",
              "    </tr>\n",
              "    <tr>\n",
              "      <th>max</th>\n",
              "      <td>9.900000e+09</td>\n",
              "      <td>7.700000e+06</td>\n",
              "      <td>33.000000</td>\n",
              "      <td>8.000000</td>\n",
              "      <td>13540.000000</td>\n",
              "      <td>1.651359e+06</td>\n",
              "      <td>3.500000</td>\n",
              "      <td>1.000000</td>\n",
              "      <td>4.000000</td>\n",
              "      <td>5.000000</td>\n",
              "      <td>13.000000</td>\n",
              "      <td>9410.000000</td>\n",
              "      <td>4820.000000</td>\n",
              "      <td>2015.000000</td>\n",
              "      <td>2015.000000</td>\n",
              "      <td>98199.000000</td>\n",
              "      <td>47.777600</td>\n",
              "      <td>-121.315000</td>\n",
              "      <td>6210.000000</td>\n",
              "      <td>871200.000000</td>\n",
              "    </tr>\n",
              "  </tbody>\n",
              "</table>\n",
              "</div>"
            ],
            "text/plain": [
              "                 id         price  ...  sqft_living15     sqft_lot15\n",
              "count  2.160700e+04  2.160700e+04  ...   21607.000000   21607.000000\n",
              "mean   4.580020e+09  5.401757e+05  ...    1986.484889   12769.608460\n",
              "std    2.876528e+09  3.674129e+05  ...     685.460263   27307.765664\n",
              "min    1.000102e+06  7.500000e+04  ...     399.000000     651.000000\n",
              "25%    2.123049e+09  3.215000e+05  ...    1490.000000    5100.000000\n",
              "50%    3.904930e+09  4.500000e+05  ...    1840.000000    7620.000000\n",
              "75%    7.308900e+09  6.450000e+05  ...    2360.000000   10083.000000\n",
              "max    9.900000e+09  7.700000e+06  ...    6210.000000  871200.000000\n",
              "\n",
              "[8 rows x 20 columns]"
            ]
          },
          "metadata": {
            "tags": []
          },
          "execution_count": 35
        }
      ]
    },
    {
      "cell_type": "markdown",
      "metadata": {
        "id": "4pSUZBVAswsT"
      },
      "source": [
        ">> Before we proceed with our Linear Regression implementation, we need to check whether the independent variables are correlated, meaning the variables that we consider to be independent have an influence over the dependent variable."
      ]
    },
    {
      "cell_type": "code",
      "metadata": {
        "id": "mviFWZSZuY7B"
      },
      "source": [
        "#We will first split our dataset into X and Y, meaning our independent and dependent variables.\n",
        "# Split features and target\n",
        "x = df_house.drop('price', axis=1)\n",
        "y = df_house['price']\n"
      ],
      "execution_count": 38,
      "outputs": []
    },
    {
      "cell_type": "markdown",
      "metadata": {
        "id": "iro2yPZTu1Sr"
      },
      "source": [
        ">> Now we want to perform a train-test dataset split. This means we are going to randomly select a portion of our dataset for the model training, while keeping a separate subset for model testing and evaluation. This ensures that the model is not biased and helps us obtain a better evaluation.\n",
        "\n",
        "For this dataset we are going to use 70% of the dataset for the training set, while the remaining 30% goes to the test set."
      ]
    },
    {
      "cell_type": "code",
      "metadata": {
        "colab": {
          "base_uri": "https://localhost:8080/"
        },
        "id": "NqINRaN6ug3f",
        "outputId": "dbf6aa30-1a40-4ad3-d4a3-6d286efce3e6"
      },
      "source": [
        "# Train-test split validation\n",
        "x_train, x_test, y_train, y_test = train_test_split(x, y, test_size = 0.3,random_state=42)\n",
        "print(x_train.shape)\n",
        "print(x_test.shape)\n",
        "print(y_train.shape)\n",
        "print(y_test.shape)"
      ],
      "execution_count": 43,
      "outputs": [
        {
          "output_type": "stream",
          "text": [
            "(15124, 19)\n",
            "(6483, 19)\n",
            "(15124,)\n",
            "(6483,)\n"
          ],
          "name": "stdout"
        }
      ]
    },
    {
      "cell_type": "markdown",
      "metadata": {
        "id": "Vib3YUQVve81"
      },
      "source": [
        ">> then we perform the linear regression"
      ]
    },
    {
      "cell_type": "code",
      "metadata": {
        "colab": {
          "base_uri": "https://localhost:8080/"
        },
        "id": "F4ouGU7LvnBL",
        "outputId": "a115c1ab-5c11-4545-b0d0-b6ff61665d0b"
      },
      "source": [
        "# Train the model\n",
        "model = LinearRegression()\n",
        "model.fit(x_train, y_train)"
      ],
      "execution_count": 40,
      "outputs": [
        {
          "output_type": "execute_result",
          "data": {
            "text/plain": [
              "LinearRegression(copy_X=True, fit_intercept=True, n_jobs=None, normalize=False)"
            ]
          },
          "metadata": {
            "tags": []
          },
          "execution_count": 40
        }
      ]
    },
    {
      "cell_type": "markdown",
      "metadata": {
        "id": "z3oYwE6-wLPU"
      },
      "source": [
        ">> now our model contains our estimates for our equation parameters. We can now use these estimates to obtain our house price estimations."
      ]
    },
    {
      "cell_type": "code",
      "metadata": {
        "id": "czV3G92XwNaO"
      },
      "source": [
        "# Test the model\n",
        "y_pred = model.predict(x_test)"
      ],
      "execution_count": 51,
      "outputs": []
    },
    {
      "cell_type": "code",
      "metadata": {
        "colab": {
          "base_uri": "https://localhost:8080/",
          "height": 306
        },
        "id": "1OrYwFXZdMoh",
        "outputId": "3bef8fb6-272f-46c1-fb72-aa4a2581f757"
      },
      "source": [
        "plt.scatter(y_test, y_pred)\n",
        "plt.plot([20,50], [20,50], 'r')\n",
        "plt.xlabel('real Price')\n",
        "plt.ylabel('predicted Price')"
      ],
      "execution_count": 52,
      "outputs": [
        {
          "output_type": "execute_result",
          "data": {
            "text/plain": [
              "Text(0, 0.5, 'predicted Price')"
            ]
          },
          "metadata": {
            "tags": []
          },
          "execution_count": 52
        },
        {
          "output_type": "display_data",
          "data": {
            "image/png": "[encoded data removed]",
            "text/plain": [
              "<Figure size 432x288 with 1 Axes>"
            ]
          },
          "metadata": {
            "tags": [],
            "needs_background": "light"
          }
        }
      ]
    },
    {
      "cell_type": "markdown",
      "metadata": {
        "id": "w1ZmNVfJwcTE"
      },
      "source": [
        ">> We can lookminto our model evaluation..Model Evaluation is an integral part of the model development process. It helps to find the best model that represents our dataset and how well the chosen model will work in the future. To avoid overfitting or underfitting, both methods use a test set (not seen by the model) to evaluate model performance.In our case we will use the RMSE "
      ]
    },
    {
      "cell_type": "code",
      "metadata": {
        "colab": {
          "base_uri": "https://localhost:8080/"
        },
        "id": "1BY9OQTqbzCg",
        "outputId": "7b077f1a-ffd9-4b20-d067-cfe0332f0138"
      },
      "source": [
        "# Print RMSE\n",
        "print(np.sqrt(mean_squared_error(y_test, y_pred)))"
      ],
      "execution_count": 53,
      "outputs": [
        {
          "output_type": "stream",
          "text": [
            "209121.75378528415\n"
          ],
          "name": "stdout"
        }
      ]
    },
    {
      "cell_type": "markdown",
      "metadata": {
        "id": "lRAkuRURf6oD"
      },
      "source": [
        ">> How do we interpret this value? It means that for every real median house price in our dataset, our model will be wrong, on average, with about $209121753. This is such a big error, judging by the big size of our dataset.\n",
        "\n",
        "This means that if tomorrow we register new values for the characteristics followed in the dataset, we can feed them through our model and get an estimation for the median house price in the Boston area. But we have to be aware that the estimated price will be, on average, $4753 higher or lower than the actual value. The error might be larger, smaller, but on average it's $4753."
      ]
    },
    {
      "cell_type": "code",
      "metadata": {
        "colab": {
          "base_uri": "https://localhost:8080/",
          "height": 35
        },
        "id": "Zm-oo12ae_7h",
        "outputId": "32787ed5-6df7-4bd4-e473-31c939885973"
      },
      "source": [
        "accuracy = model.score(x_test, y_test)\n",
        "\"Accuracy: {}%\".format(int(round(accuracy * 100)))"
      ],
      "execution_count": 49,
      "outputs": [
        {
          "output_type": "execute_result",
          "data": {
            "application/vnd.google.colaboratory.intrinsic+json": {
              "type": "string"
            },
            "text/plain": [
              "'Accuracy: 70%'"
            ]
          },
          "metadata": {
            "tags": []
          },
          "execution_count": 49
        }
      ]
    },
    {
      "cell_type": "code",
      "metadata": {
        "id": "uXaLc52ItoQh"
      },
      "source": [
        "from statsmodels.stats.outliers_influence import variance_inflation_factor\n",
        "def get_vif_factors(X): \n",
        "    X_matrix = X.as_matrix()\n",
        "    vif = [variance_inflation_factor(X_matrix, i) for i in range(X_matrix.shape[1])]\n",
        "    vif_factors = pd.DataFrame()\n",
        "    vif_factors['Column'] = X.columnsvif_factors['VIF'] = vif\n",
        "    return vif_factors\n",
        "vif_factors = get_vif_factors(X[X_features])\n",
        "vif_factors\n"
      ],
      "execution_count": null,
      "outputs": []
    }
  ]
}